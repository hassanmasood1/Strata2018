{
 "cells": [
  {
   "cell_type": "code",
   "execution_count": 1,
   "metadata": {},
   "outputs": [],
   "source": [
    "import warnings\n",
    "warnings.filterwarnings(\"ignore\", category=DeprecationWarning)\n",
    "warnings.filterwarnings(\"ignore\", category=RuntimeWarning) "
   ]
  },
  {
   "cell_type": "code",
   "execution_count": 2,
   "metadata": {},
   "outputs": [],
   "source": [
    "import numpy as np\n",
    "import sklearn\n",
    "import matplotlib.pyplot as plt\n",
    "import pandas as pd\n",
    "import time\n",
    "from scipy import stats\n",
    "from sklearn.model_selection import train_test_split, cross_val_score, cross_val_predict\n",
    "from sklearn.model_selection import KFold,StratifiedKFold\n",
    "from sklearn.metrics import confusion_matrix\n",
    "from sklearn import metrics\n",
    "%matplotlib inline"
   ]
  },
  {
   "cell_type": "markdown",
   "metadata": {},
   "source": [
    "### Recap: basic operations in Jupyter notebook, types of cells, executing cells."
   ]
  },
  {
   "cell_type": "markdown",
   "metadata": {},
   "source": [
    "### Data import"
   ]
  },
  {
   "cell_type": "markdown",
   "metadata": {},
   "source": [
    "Read the data in a data frame using pandas, take a look at them, check the size of the data set, rename columns to something easier to type."
   ]
  },
  {
   "cell_type": "code",
   "execution_count": 3,
   "metadata": {},
   "outputs": [],
   "source": [
    "data = pd.read_csv('LAE_OII_Strata.txt', sep = '\\t', comment = '#')"
   ]
  },
  {
   "cell_type": "code",
   "execution_count": 4,
   "metadata": {},
   "outputs": [
    {
     "data": {
      "text/html": [
       "<div>\n",
       "<style scoped>\n",
       "    .dataframe tbody tr th:only-of-type {\n",
       "        vertical-align: middle;\n",
       "    }\n",
       "\n",
       "    .dataframe tbody tr th {\n",
       "        vertical-align: top;\n",
       "    }\n",
       "\n",
       "    .dataframe thead th {\n",
       "        text-align: right;\n",
       "    }\n",
       "</style>\n",
       "<table border=\"1\" class=\"dataframe\">\n",
       "  <thead>\n",
       "    <tr style=\"text-align: right;\">\n",
       "      <th></th>\n",
       "      <th>type</th>\n",
       "      <th>wavelength of EL (angstroms)</th>\n",
       "      <th>EL flux (erg/cm^2/s)</th>\n",
       "      <th>continuum flux density</th>\n",
       "      <th>EW observed</th>\n",
       "    </tr>\n",
       "  </thead>\n",
       "  <tbody>\n",
       "    <tr>\n",
       "      <th>0</th>\n",
       "      <td>LAE</td>\n",
       "      <td>4114.6</td>\n",
       "      <td>1.787900e-16</td>\n",
       "      <td>1.0146</td>\n",
       "      <td>99.516</td>\n",
       "    </tr>\n",
       "    <tr>\n",
       "      <th>1</th>\n",
       "      <td>LAE</td>\n",
       "      <td>3869.9</td>\n",
       "      <td>6.304500e-17</td>\n",
       "      <td>0.2145</td>\n",
       "      <td>146.820</td>\n",
       "    </tr>\n",
       "    <tr>\n",
       "      <th>2</th>\n",
       "      <td>LAE</td>\n",
       "      <td>3962.6</td>\n",
       "      <td>6.446300e-17</td>\n",
       "      <td>0.2983</td>\n",
       "      <td>113.190</td>\n",
       "    </tr>\n",
       "    <tr>\n",
       "      <th>3</th>\n",
       "      <td>LAE</td>\n",
       "      <td>3901.7</td>\n",
       "      <td>1.007500e-16</td>\n",
       "      <td>0.0211</td>\n",
       "      <td>2424.600</td>\n",
       "    </tr>\n",
       "    <tr>\n",
       "      <th>4</th>\n",
       "      <td>LAE</td>\n",
       "      <td>3954.3</td>\n",
       "      <td>7.311100e-17</td>\n",
       "      <td>1.0416</td>\n",
       "      <td>36.611</td>\n",
       "    </tr>\n",
       "  </tbody>\n",
       "</table>\n",
       "</div>"
      ],
      "text/plain": [
       "  type  wavelength of EL (angstroms)  EL flux (erg/cm^2/s)  \\\n",
       "0  LAE                        4114.6          1.787900e-16   \n",
       "1  LAE                        3869.9          6.304500e-17   \n",
       "2  LAE                        3962.6          6.446300e-17   \n",
       "3  LAE                        3901.7          1.007500e-16   \n",
       "4  LAE                        3954.3          7.311100e-17   \n",
       "\n",
       "   continuum flux density  EW observed  \n",
       "0                  1.0146       99.516  \n",
       "1                  0.2145      146.820  \n",
       "2                  0.2983      113.190  \n",
       "3                  0.0211     2424.600  \n",
       "4                  1.0416       36.611  "
      ]
     },
     "execution_count": 4,
     "metadata": {},
     "output_type": "execute_result"
    }
   ],
   "source": [
    "data.head()"
   ]
  },
  {
   "cell_type": "code",
   "execution_count": 6,
   "metadata": {},
   "outputs": [
    {
     "data": {
      "text/plain": [
       "(5436, 5)"
      ]
     },
     "execution_count": 6,
     "metadata": {},
     "output_type": "execute_result"
    }
   ],
   "source": [
    "data.shape"
   ]
  },
  {
   "cell_type": "code",
   "execution_count": 7,
   "metadata": {},
   "outputs": [],
   "source": [
    "data.columns = ('type', 'wavelenght',  'ELflux', 'continum','EW')"
   ]
  },
  {
   "cell_type": "code",
   "execution_count": 8,
   "metadata": {},
   "outputs": [
    {
     "data": {
      "text/html": [
       "<div>\n",
       "<style scoped>\n",
       "    .dataframe tbody tr th:only-of-type {\n",
       "        vertical-align: middle;\n",
       "    }\n",
       "\n",
       "    .dataframe tbody tr th {\n",
       "        vertical-align: top;\n",
       "    }\n",
       "\n",
       "    .dataframe thead th {\n",
       "        text-align: right;\n",
       "    }\n",
       "</style>\n",
       "<table border=\"1\" class=\"dataframe\">\n",
       "  <thead>\n",
       "    <tr style=\"text-align: right;\">\n",
       "      <th></th>\n",
       "      <th>type</th>\n",
       "      <th>wavelenght</th>\n",
       "      <th>ELflux</th>\n",
       "      <th>continum</th>\n",
       "      <th>EW</th>\n",
       "    </tr>\n",
       "  </thead>\n",
       "  <tbody>\n",
       "    <tr>\n",
       "      <th>0</th>\n",
       "      <td>LAE</td>\n",
       "      <td>4114.6</td>\n",
       "      <td>1.787900e-16</td>\n",
       "      <td>1.0146</td>\n",
       "      <td>99.516</td>\n",
       "    </tr>\n",
       "    <tr>\n",
       "      <th>1</th>\n",
       "      <td>LAE</td>\n",
       "      <td>3869.9</td>\n",
       "      <td>6.304500e-17</td>\n",
       "      <td>0.2145</td>\n",
       "      <td>146.820</td>\n",
       "    </tr>\n",
       "    <tr>\n",
       "      <th>2</th>\n",
       "      <td>LAE</td>\n",
       "      <td>3962.6</td>\n",
       "      <td>6.446300e-17</td>\n",
       "      <td>0.2983</td>\n",
       "      <td>113.190</td>\n",
       "    </tr>\n",
       "    <tr>\n",
       "      <th>3</th>\n",
       "      <td>LAE</td>\n",
       "      <td>3901.7</td>\n",
       "      <td>1.007500e-16</td>\n",
       "      <td>0.0211</td>\n",
       "      <td>2424.600</td>\n",
       "    </tr>\n",
       "    <tr>\n",
       "      <th>4</th>\n",
       "      <td>LAE</td>\n",
       "      <td>3954.3</td>\n",
       "      <td>7.311100e-17</td>\n",
       "      <td>1.0416</td>\n",
       "      <td>36.611</td>\n",
       "    </tr>\n",
       "  </tbody>\n",
       "</table>\n",
       "</div>"
      ],
      "text/plain": [
       "  type  wavelenght        ELflux  continum        EW\n",
       "0  LAE      4114.6  1.787900e-16    1.0146    99.516\n",
       "1  LAE      3869.9  6.304500e-17    0.2145   146.820\n",
       "2  LAE      3962.6  6.446300e-17    0.2983   113.190\n",
       "3  LAE      3901.7  1.007500e-16    0.0211  2424.600\n",
       "4  LAE      3954.3  7.311100e-17    1.0416    36.611"
      ]
     },
     "execution_count": 8,
     "metadata": {},
     "output_type": "execute_result"
    }
   ],
   "source": [
    "data.head()"
   ]
  },
  {
   "cell_type": "markdown",
   "metadata": {},
   "source": [
    "### Data exploration"
   ]
  },
  {
   "cell_type": "markdown",
   "metadata": {},
   "source": [
    "Look at data properties divided by type to figure out some differences between LAEs and OIIs. Change settings to visualize all the columns in a data frame. Eliminate outliers."
   ]
  },
  {
   "cell_type": "code",
   "execution_count": 10,
   "metadata": {},
   "outputs": [
    {
     "data": {
      "text/html": [
       "<div>\n",
       "<style scoped>\n",
       "    .dataframe tbody tr th:only-of-type {\n",
       "        vertical-align: middle;\n",
       "    }\n",
       "\n",
       "    .dataframe tbody tr th {\n",
       "        vertical-align: top;\n",
       "    }\n",
       "\n",
       "    .dataframe thead th {\n",
       "        text-align: right;\n",
       "    }\n",
       "</style>\n",
       "<table border=\"1\" class=\"dataframe\">\n",
       "  <thead>\n",
       "    <tr style=\"text-align: right;\">\n",
       "      <th></th>\n",
       "      <th>wavelenght</th>\n",
       "      <th>ELflux</th>\n",
       "      <th>continum</th>\n",
       "      <th>EW</th>\n",
       "    </tr>\n",
       "  </thead>\n",
       "  <tbody>\n",
       "    <tr>\n",
       "      <th>count</th>\n",
       "      <td>5436.00000</td>\n",
       "      <td>5.436000e+03</td>\n",
       "      <td>5436.000000</td>\n",
       "      <td>5436.000000</td>\n",
       "    </tr>\n",
       "    <tr>\n",
       "      <th>mean</th>\n",
       "      <td>4015.02660</td>\n",
       "      <td>2.449815e-16</td>\n",
       "      <td>68.686761</td>\n",
       "      <td>440.655398</td>\n",
       "    </tr>\n",
       "    <tr>\n",
       "      <th>std</th>\n",
       "      <td>112.44312</td>\n",
       "      <td>1.021284e-15</td>\n",
       "      <td>854.380290</td>\n",
       "      <td>3353.032457</td>\n",
       "    </tr>\n",
       "    <tr>\n",
       "      <th>min</th>\n",
       "      <td>3800.20000</td>\n",
       "      <td>4.276800e-17</td>\n",
       "      <td>-0.241100</td>\n",
       "      <td>0.008900</td>\n",
       "    </tr>\n",
       "    <tr>\n",
       "      <th>25%</th>\n",
       "      <td>3923.27500</td>\n",
       "      <td>5.849275e-17</td>\n",
       "      <td>0.208650</td>\n",
       "      <td>17.725000</td>\n",
       "    </tr>\n",
       "    <tr>\n",
       "      <th>50%</th>\n",
       "      <td>4018.35000</td>\n",
       "      <td>7.434850e-17</td>\n",
       "      <td>0.504750</td>\n",
       "      <td>80.634000</td>\n",
       "    </tr>\n",
       "    <tr>\n",
       "      <th>75%</th>\n",
       "      <td>4113.52500</td>\n",
       "      <td>1.123825e-16</td>\n",
       "      <td>2.763625</td>\n",
       "      <td>188.425000</td>\n",
       "    </tr>\n",
       "    <tr>\n",
       "      <th>max</th>\n",
       "      <td>4200.00000</td>\n",
       "      <td>3.426100e-14</td>\n",
       "      <td>41370.000000</td>\n",
       "      <td>157450.000000</td>\n",
       "    </tr>\n",
       "  </tbody>\n",
       "</table>\n",
       "</div>"
      ],
      "text/plain": [
       "       wavelenght        ELflux      continum             EW\n",
       "count  5436.00000  5.436000e+03   5436.000000    5436.000000\n",
       "mean   4015.02660  2.449815e-16     68.686761     440.655398\n",
       "std     112.44312  1.021284e-15    854.380290    3353.032457\n",
       "min    3800.20000  4.276800e-17     -0.241100       0.008900\n",
       "25%    3923.27500  5.849275e-17      0.208650      17.725000\n",
       "50%    4018.35000  7.434850e-17      0.504750      80.634000\n",
       "75%    4113.52500  1.123825e-16      2.763625     188.425000\n",
       "max    4200.00000  3.426100e-14  41370.000000  157450.000000"
      ]
     },
     "execution_count": 10,
     "metadata": {},
     "output_type": "execute_result"
    }
   ],
   "source": [
    "data.describe()"
   ]
  },
  {
   "cell_type": "code",
   "execution_count": 13,
   "metadata": {},
   "outputs": [
    {
     "data": {
      "text/html": [
       "<div>\n",
       "<style scoped>\n",
       "    .dataframe tbody tr th:only-of-type {\n",
       "        vertical-align: middle;\n",
       "    }\n",
       "\n",
       "    .dataframe tbody tr th {\n",
       "        vertical-align: top;\n",
       "    }\n",
       "\n",
       "    .dataframe thead tr th {\n",
       "        text-align: left;\n",
       "    }\n",
       "\n",
       "    .dataframe thead tr:last-of-type th {\n",
       "        text-align: right;\n",
       "    }\n",
       "</style>\n",
       "<table border=\"1\" class=\"dataframe\">\n",
       "  <thead>\n",
       "    <tr>\n",
       "      <th></th>\n",
       "      <th colspan=\"8\" halign=\"left\">ELflux</th>\n",
       "      <th colspan=\"2\" halign=\"left\">EW</th>\n",
       "      <th>...</th>\n",
       "      <th colspan=\"2\" halign=\"left\">continum</th>\n",
       "      <th colspan=\"8\" halign=\"left\">wavelenght</th>\n",
       "    </tr>\n",
       "    <tr>\n",
       "      <th></th>\n",
       "      <th>count</th>\n",
       "      <th>mean</th>\n",
       "      <th>std</th>\n",
       "      <th>min</th>\n",
       "      <th>25%</th>\n",
       "      <th>50%</th>\n",
       "      <th>75%</th>\n",
       "      <th>max</th>\n",
       "      <th>count</th>\n",
       "      <th>mean</th>\n",
       "      <th>...</th>\n",
       "      <th>75%</th>\n",
       "      <th>max</th>\n",
       "      <th>count</th>\n",
       "      <th>mean</th>\n",
       "      <th>std</th>\n",
       "      <th>min</th>\n",
       "      <th>25%</th>\n",
       "      <th>50%</th>\n",
       "      <th>75%</th>\n",
       "      <th>max</th>\n",
       "    </tr>\n",
       "    <tr>\n",
       "      <th>type</th>\n",
       "      <th></th>\n",
       "      <th></th>\n",
       "      <th></th>\n",
       "      <th></th>\n",
       "      <th></th>\n",
       "      <th></th>\n",
       "      <th></th>\n",
       "      <th></th>\n",
       "      <th></th>\n",
       "      <th></th>\n",
       "      <th></th>\n",
       "      <th></th>\n",
       "      <th></th>\n",
       "      <th></th>\n",
       "      <th></th>\n",
       "      <th></th>\n",
       "      <th></th>\n",
       "      <th></th>\n",
       "      <th></th>\n",
       "      <th></th>\n",
       "      <th></th>\n",
       "    </tr>\n",
       "  </thead>\n",
       "  <tbody>\n",
       "    <tr>\n",
       "      <th>LAE</th>\n",
       "      <td>4415.0</td>\n",
       "      <td>8.005258e-17</td>\n",
       "      <td>3.630592e-17</td>\n",
       "      <td>4.276800e-17</td>\n",
       "      <td>5.655650e-17</td>\n",
       "      <td>6.891900e-17</td>\n",
       "      <td>9.028000e-17</td>\n",
       "      <td>4.380200e-16</td>\n",
       "      <td>4415.0</td>\n",
       "      <td>540.767356</td>\n",
       "      <td>...</td>\n",
       "      <td>0.8817</td>\n",
       "      <td>2669.9</td>\n",
       "      <td>4415.0</td>\n",
       "      <td>4003.127475</td>\n",
       "      <td>112.761281</td>\n",
       "      <td>3800.2</td>\n",
       "      <td>3908.35</td>\n",
       "      <td>3999.6</td>\n",
       "      <td>4103.1</td>\n",
       "      <td>4200.0</td>\n",
       "    </tr>\n",
       "    <tr>\n",
       "      <th>OII</th>\n",
       "      <td>1021.0</td>\n",
       "      <td>9.581660e-16</td>\n",
       "      <td>2.219254e-15</td>\n",
       "      <td>4.495600e-17</td>\n",
       "      <td>1.125200e-16</td>\n",
       "      <td>2.738200e-16</td>\n",
       "      <td>7.966100e-16</td>\n",
       "      <td>3.426100e-14</td>\n",
       "      <td>1021.0</td>\n",
       "      <td>7.752076</td>\n",
       "      <td>...</td>\n",
       "      <td>149.6100</td>\n",
       "      <td>41370.0</td>\n",
       "      <td>1021.0</td>\n",
       "      <td>4066.480705</td>\n",
       "      <td>95.303749</td>\n",
       "      <td>3826.2</td>\n",
       "      <td>3998.80</td>\n",
       "      <td>4085.8</td>\n",
       "      <td>4148.2</td>\n",
       "      <td>4199.8</td>\n",
       "    </tr>\n",
       "  </tbody>\n",
       "</table>\n",
       "<p>2 rows × 32 columns</p>\n",
       "</div>"
      ],
      "text/plain": [
       "      ELflux                                                          \\\n",
       "       count          mean           std           min           25%   \n",
       "type                                                                   \n",
       "LAE   4415.0  8.005258e-17  3.630592e-17  4.276800e-17  5.655650e-17   \n",
       "OII   1021.0  9.581660e-16  2.219254e-15  4.495600e-17  1.125200e-16   \n",
       "\n",
       "                                                    EW               ...    \\\n",
       "               50%           75%           max   count        mean   ...     \n",
       "type                                                                 ...     \n",
       "LAE   6.891900e-17  9.028000e-17  4.380200e-16  4415.0  540.767356   ...     \n",
       "OII   2.738200e-16  7.966100e-16  3.426100e-14  1021.0    7.752076   ...     \n",
       "\n",
       "      continum          wavelenght                                            \\\n",
       "           75%      max      count         mean         std     min      25%   \n",
       "type                                                                           \n",
       "LAE     0.8817   2669.9     4415.0  4003.127475  112.761281  3800.2  3908.35   \n",
       "OII   149.6100  41370.0     1021.0  4066.480705   95.303749  3826.2  3998.80   \n",
       "\n",
       "                              \n",
       "         50%     75%     max  \n",
       "type                          \n",
       "LAE   3999.6  4103.1  4200.0  \n",
       "OII   4085.8  4148.2  4199.8  \n",
       "\n",
       "[2 rows x 32 columns]"
      ]
     },
     "execution_count": 13,
     "metadata": {},
     "output_type": "execute_result"
    }
   ],
   "source": [
    "data.groupby('type').describe()"
   ]
  },
  {
   "cell_type": "code",
   "execution_count": 14,
   "metadata": {},
   "outputs": [],
   "source": [
    "pd.set_option('display.max_columns',500)"
   ]
  },
  {
   "cell_type": "code",
   "execution_count": 19,
   "metadata": {},
   "outputs": [
    {
     "data": {
      "text/html": [
       "<div>\n",
       "<style scoped>\n",
       "    .dataframe tbody tr th:only-of-type {\n",
       "        vertical-align: middle;\n",
       "    }\n",
       "\n",
       "    .dataframe tbody tr th {\n",
       "        vertical-align: top;\n",
       "    }\n",
       "\n",
       "    .dataframe thead tr th {\n",
       "        text-align: left;\n",
       "    }\n",
       "\n",
       "    .dataframe thead tr:last-of-type th {\n",
       "        text-align: right;\n",
       "    }\n",
       "</style>\n",
       "<table border=\"1\" class=\"dataframe\">\n",
       "  <thead>\n",
       "    <tr>\n",
       "      <th></th>\n",
       "      <th colspan=\"6\" halign=\"left\">ELflux</th>\n",
       "      <th colspan=\"6\" halign=\"left\">EW</th>\n",
       "      <th colspan=\"6\" halign=\"left\">continum</th>\n",
       "      <th colspan=\"6\" halign=\"left\">wavelenght</th>\n",
       "    </tr>\n",
       "    <tr>\n",
       "      <th></th>\n",
       "      <th>count</th>\n",
       "      <th>mean</th>\n",
       "      <th>std</th>\n",
       "      <th>min</th>\n",
       "      <th>50%</th>\n",
       "      <th>max</th>\n",
       "      <th>count</th>\n",
       "      <th>mean</th>\n",
       "      <th>std</th>\n",
       "      <th>min</th>\n",
       "      <th>50%</th>\n",
       "      <th>max</th>\n",
       "      <th>count</th>\n",
       "      <th>mean</th>\n",
       "      <th>std</th>\n",
       "      <th>min</th>\n",
       "      <th>50%</th>\n",
       "      <th>max</th>\n",
       "      <th>count</th>\n",
       "      <th>mean</th>\n",
       "      <th>std</th>\n",
       "      <th>min</th>\n",
       "      <th>50%</th>\n",
       "      <th>max</th>\n",
       "    </tr>\n",
       "    <tr>\n",
       "      <th>type</th>\n",
       "      <th></th>\n",
       "      <th></th>\n",
       "      <th></th>\n",
       "      <th></th>\n",
       "      <th></th>\n",
       "      <th></th>\n",
       "      <th></th>\n",
       "      <th></th>\n",
       "      <th></th>\n",
       "      <th></th>\n",
       "      <th></th>\n",
       "      <th></th>\n",
       "      <th></th>\n",
       "      <th></th>\n",
       "      <th></th>\n",
       "      <th></th>\n",
       "      <th></th>\n",
       "      <th></th>\n",
       "      <th></th>\n",
       "      <th></th>\n",
       "      <th></th>\n",
       "      <th></th>\n",
       "      <th></th>\n",
       "      <th></th>\n",
       "    </tr>\n",
       "  </thead>\n",
       "  <tbody>\n",
       "    <tr>\n",
       "      <th>LAE</th>\n",
       "      <td>4415.0</td>\n",
       "      <td>8.005258e-17</td>\n",
       "      <td>3.630592e-17</td>\n",
       "      <td>4.276800e-17</td>\n",
       "      <td>6.891900e-17</td>\n",
       "      <td>4.380200e-16</td>\n",
       "      <td>4415.0</td>\n",
       "      <td>540.767356</td>\n",
       "      <td>3713.490362</td>\n",
       "      <td>0.0304</td>\n",
       "      <td>111.1700</td>\n",
       "      <td>157450.000</td>\n",
       "      <td>4415.0</td>\n",
       "      <td>3.095571</td>\n",
       "      <td>58.841667</td>\n",
       "      <td>-0.2411</td>\n",
       "      <td>0.3545</td>\n",
       "      <td>2669.9</td>\n",
       "      <td>4415.0</td>\n",
       "      <td>4003.127475</td>\n",
       "      <td>112.761281</td>\n",
       "      <td>3800.2</td>\n",
       "      <td>3999.6</td>\n",
       "      <td>4200.0</td>\n",
       "    </tr>\n",
       "    <tr>\n",
       "      <th>OII</th>\n",
       "      <td>1021.0</td>\n",
       "      <td>9.581660e-16</td>\n",
       "      <td>2.219254e-15</td>\n",
       "      <td>4.495600e-17</td>\n",
       "      <td>2.738200e-16</td>\n",
       "      <td>3.426100e-14</td>\n",
       "      <td>1021.0</td>\n",
       "      <td>7.752076</td>\n",
       "      <td>8.049062</td>\n",
       "      <td>0.0089</td>\n",
       "      <td>5.1784</td>\n",
       "      <td>69.723</td>\n",
       "      <td>1021.0</td>\n",
       "      <td>352.315656</td>\n",
       "      <td>1943.049897</td>\n",
       "      <td>0.6176</td>\n",
       "      <td>35.0440</td>\n",
       "      <td>41370.0</td>\n",
       "      <td>1021.0</td>\n",
       "      <td>4066.480705</td>\n",
       "      <td>95.303749</td>\n",
       "      <td>3826.2</td>\n",
       "      <td>4085.8</td>\n",
       "      <td>4199.8</td>\n",
       "    </tr>\n",
       "  </tbody>\n",
       "</table>\n",
       "</div>"
      ],
      "text/plain": [
       "      ELflux                                                          \\\n",
       "       count          mean           std           min           50%   \n",
       "type                                                                   \n",
       "LAE   4415.0  8.005258e-17  3.630592e-17  4.276800e-17  6.891900e-17   \n",
       "OII   1021.0  9.581660e-16  2.219254e-15  4.495600e-17  2.738200e-16   \n",
       "\n",
       "                        EW                                             \\\n",
       "               max   count        mean          std     min       50%   \n",
       "type                                                                    \n",
       "LAE   4.380200e-16  4415.0  540.767356  3713.490362  0.0304  111.1700   \n",
       "OII   3.426100e-14  1021.0    7.752076     8.049062  0.0089    5.1784   \n",
       "\n",
       "                 continum                                                     \\\n",
       "             max    count        mean          std     min      50%      max   \n",
       "type                                                                           \n",
       "LAE   157450.000   4415.0    3.095571    58.841667 -0.2411   0.3545   2669.9   \n",
       "OII       69.723   1021.0  352.315656  1943.049897  0.6176  35.0440  41370.0   \n",
       "\n",
       "     wavelenght                                                   \n",
       "          count         mean         std     min     50%     max  \n",
       "type                                                              \n",
       "LAE      4415.0  4003.127475  112.761281  3800.2  3999.6  4200.0  \n",
       "OII      1021.0  4066.480705   95.303749  3826.2  4085.8  4199.8  "
      ]
     },
     "execution_count": 19,
     "metadata": {},
     "output_type": "execute_result"
    }
   ],
   "source": [
    "data.groupby('type').describe(percentiles = [])"
   ]
  },
  {
   "cell_type": "code",
   "execution_count": 27,
   "metadata": {},
   "outputs": [
    {
     "data": {
      "text/plain": [
       "<matplotlib.legend.Legend at 0x123b1c748>"
      ]
     },
     "execution_count": 27,
     "metadata": {},
     "output_type": "execute_result"
    },
    {
     "data": {
      "image/png": "[encoded data removed]",
      "text/plain": [
       "<Figure size 432x288 with 1 Axes>"
      ]
     },
     "metadata": {},
     "output_type": "display_data"
    }
   ],
   "source": [
    "plt.hist(data[data.type == 'LAE']['EW'], bins = 20, alpha = 0.5, range = (0,500), label = 'LAE');\n",
    "plt.legend()"
   ]
  },
  {
   "cell_type": "code",
   "execution_count": 28,
   "metadata": {},
   "outputs": [
    {
     "data": {
      "text/html": [
       "<div>\n",
       "<style scoped>\n",
       "    .dataframe tbody tr th:only-of-type {\n",
       "        vertical-align: middle;\n",
       "    }\n",
       "\n",
       "    .dataframe tbody tr th {\n",
       "        vertical-align: top;\n",
       "    }\n",
       "\n",
       "    .dataframe thead th {\n",
       "        text-align: right;\n",
       "    }\n",
       "</style>\n",
       "<table border=\"1\" class=\"dataframe\">\n",
       "  <thead>\n",
       "    <tr style=\"text-align: right;\">\n",
       "      <th></th>\n",
       "      <th>wavelenght</th>\n",
       "      <th>ELflux</th>\n",
       "      <th>continum</th>\n",
       "      <th>EW</th>\n",
       "    </tr>\n",
       "  </thead>\n",
       "  <tbody>\n",
       "    <tr>\n",
       "      <th>0</th>\n",
       "      <td>4114.6</td>\n",
       "      <td>1.787900e-16</td>\n",
       "      <td>1.0146</td>\n",
       "      <td>99.5160</td>\n",
       "    </tr>\n",
       "    <tr>\n",
       "      <th>1</th>\n",
       "      <td>3869.9</td>\n",
       "      <td>6.304500e-17</td>\n",
       "      <td>0.2145</td>\n",
       "      <td>146.8200</td>\n",
       "    </tr>\n",
       "    <tr>\n",
       "      <th>2</th>\n",
       "      <td>3962.6</td>\n",
       "      <td>6.446300e-17</td>\n",
       "      <td>0.2983</td>\n",
       "      <td>113.1900</td>\n",
       "    </tr>\n",
       "    <tr>\n",
       "      <th>3</th>\n",
       "      <td>3901.7</td>\n",
       "      <td>1.007500e-16</td>\n",
       "      <td>0.0211</td>\n",
       "      <td>2424.6000</td>\n",
       "    </tr>\n",
       "    <tr>\n",
       "      <th>4</th>\n",
       "      <td>3954.3</td>\n",
       "      <td>7.311100e-17</td>\n",
       "      <td>1.0416</td>\n",
       "      <td>36.6110</td>\n",
       "    </tr>\n",
       "    <tr>\n",
       "      <th>5</th>\n",
       "      <td>3896.6</td>\n",
       "      <td>5.990100e-16</td>\n",
       "      <td>18.7050</td>\n",
       "      <td>16.2200</td>\n",
       "    </tr>\n",
       "    <tr>\n",
       "      <th>6</th>\n",
       "      <td>4108.6</td>\n",
       "      <td>1.456500e-15</td>\n",
       "      <td>284.1400</td>\n",
       "      <td>2.8862</td>\n",
       "    </tr>\n",
       "    <tr>\n",
       "      <th>7</th>\n",
       "      <td>4098.2</td>\n",
       "      <td>2.862100e-15</td>\n",
       "      <td>205.8200</td>\n",
       "      <td>7.7904</td>\n",
       "    </tr>\n",
       "    <tr>\n",
       "      <th>8</th>\n",
       "      <td>4079.0</td>\n",
       "      <td>1.019300e-16</td>\n",
       "      <td>1.7645</td>\n",
       "      <td>32.0610</td>\n",
       "    </tr>\n",
       "    <tr>\n",
       "      <th>9</th>\n",
       "      <td>3900.4</td>\n",
       "      <td>8.694700e-17</td>\n",
       "      <td>1.2852</td>\n",
       "      <td>34.3300</td>\n",
       "    </tr>\n",
       "    <tr>\n",
       "      <th>10</th>\n",
       "      <td>3850.3</td>\n",
       "      <td>1.492100e-16</td>\n",
       "      <td>10.0580</td>\n",
       "      <td>7.3358</td>\n",
       "    </tr>\n",
       "    <tr>\n",
       "      <th>11</th>\n",
       "      <td>4078.7</td>\n",
       "      <td>5.521000e-17</td>\n",
       "      <td>0.2762</td>\n",
       "      <td>110.9200</td>\n",
       "    </tr>\n",
       "    <tr>\n",
       "      <th>12</th>\n",
       "      <td>4189.0</td>\n",
       "      <td>4.772500e-17</td>\n",
       "      <td>0.2376</td>\n",
       "      <td>117.5700</td>\n",
       "    </tr>\n",
       "    <tr>\n",
       "      <th>13</th>\n",
       "      <td>4043.9</td>\n",
       "      <td>7.296100e-17</td>\n",
       "      <td>0.2425</td>\n",
       "      <td>164.1200</td>\n",
       "    </tr>\n",
       "    <tr>\n",
       "      <th>14</th>\n",
       "      <td>3946.8</td>\n",
       "      <td>6.707400e-17</td>\n",
       "      <td>0.5384</td>\n",
       "      <td>64.7330</td>\n",
       "    </tr>\n",
       "    <tr>\n",
       "      <th>15</th>\n",
       "      <td>4018.8</td>\n",
       "      <td>5.061900e-17</td>\n",
       "      <td>2.1919</td>\n",
       "      <td>12.4410</td>\n",
       "    </tr>\n",
       "    <tr>\n",
       "      <th>16</th>\n",
       "      <td>4032.3</td>\n",
       "      <td>4.901900e-17</td>\n",
       "      <td>0.0790</td>\n",
       "      <td>336.5200</td>\n",
       "    </tr>\n",
       "    <tr>\n",
       "      <th>17</th>\n",
       "      <td>3972.3</td>\n",
       "      <td>6.318700e-17</td>\n",
       "      <td>1.7831</td>\n",
       "      <td>18.6520</td>\n",
       "    </tr>\n",
       "    <tr>\n",
       "      <th>18</th>\n",
       "      <td>4084.2</td>\n",
       "      <td>1.029600e-16</td>\n",
       "      <td>1.1588</td>\n",
       "      <td>49.4380</td>\n",
       "    </tr>\n",
       "    <tr>\n",
       "      <th>19</th>\n",
       "      <td>3823.4</td>\n",
       "      <td>6.891900e-17</td>\n",
       "      <td>0.5728</td>\n",
       "      <td>58.6690</td>\n",
       "    </tr>\n",
       "    <tr>\n",
       "      <th>20</th>\n",
       "      <td>4136.1</td>\n",
       "      <td>4.605600e-17</td>\n",
       "      <td>0.1106</td>\n",
       "      <td>237.6300</td>\n",
       "    </tr>\n",
       "    <tr>\n",
       "      <th>21</th>\n",
       "      <td>4034.5</td>\n",
       "      <td>3.186800e-16</td>\n",
       "      <td>2.1743</td>\n",
       "      <td>79.5790</td>\n",
       "    </tr>\n",
       "    <tr>\n",
       "      <th>22</th>\n",
       "      <td>4170.0</td>\n",
       "      <td>6.708100e-17</td>\n",
       "      <td>0.6858</td>\n",
       "      <td>56.7340</td>\n",
       "    </tr>\n",
       "    <tr>\n",
       "      <th>23</th>\n",
       "      <td>4189.2</td>\n",
       "      <td>4.874700e-17</td>\n",
       "      <td>0.0904</td>\n",
       "      <td>315.6600</td>\n",
       "    </tr>\n",
       "    <tr>\n",
       "      <th>24</th>\n",
       "      <td>3981.2</td>\n",
       "      <td>5.121300e-17</td>\n",
       "      <td>0.2539</td>\n",
       "      <td>106.6400</td>\n",
       "    </tr>\n",
       "    <tr>\n",
       "      <th>25</th>\n",
       "      <td>4022.6</td>\n",
       "      <td>5.112800e-17</td>\n",
       "      <td>0.4867</td>\n",
       "      <td>56.7000</td>\n",
       "    </tr>\n",
       "    <tr>\n",
       "      <th>26</th>\n",
       "      <td>4094.5</td>\n",
       "      <td>6.253300e-17</td>\n",
       "      <td>0.1557</td>\n",
       "      <td>224.6000</td>\n",
       "    </tr>\n",
       "    <tr>\n",
       "      <th>27</th>\n",
       "      <td>4175.0</td>\n",
       "      <td>5.547700e-17</td>\n",
       "      <td>0.1981</td>\n",
       "      <td>162.8300</td>\n",
       "    </tr>\n",
       "    <tr>\n",
       "      <th>28</th>\n",
       "      <td>4103.0</td>\n",
       "      <td>4.736300e-17</td>\n",
       "      <td>0.1351</td>\n",
       "      <td>196.8600</td>\n",
       "    </tr>\n",
       "    <tr>\n",
       "      <th>29</th>\n",
       "      <td>4136.1</td>\n",
       "      <td>6.081100e-17</td>\n",
       "      <td>0.4253</td>\n",
       "      <td>81.5920</td>\n",
       "    </tr>\n",
       "    <tr>\n",
       "      <th>...</th>\n",
       "      <td>...</td>\n",
       "      <td>...</td>\n",
       "      <td>...</td>\n",
       "      <td>...</td>\n",
       "    </tr>\n",
       "    <tr>\n",
       "      <th>5406</th>\n",
       "      <td>4105.0</td>\n",
       "      <td>4.936500e-17</td>\n",
       "      <td>0.3407</td>\n",
       "      <td>81.4410</td>\n",
       "    </tr>\n",
       "    <tr>\n",
       "      <th>5407</th>\n",
       "      <td>3896.7</td>\n",
       "      <td>7.009800e-17</td>\n",
       "      <td>0.4997</td>\n",
       "      <td>71.0520</td>\n",
       "    </tr>\n",
       "    <tr>\n",
       "      <th>5408</th>\n",
       "      <td>3843.5</td>\n",
       "      <td>1.373600e-16</td>\n",
       "      <td>0.3806</td>\n",
       "      <td>177.8400</td>\n",
       "    </tr>\n",
       "    <tr>\n",
       "      <th>5409</th>\n",
       "      <td>3887.2</td>\n",
       "      <td>5.153400e-17</td>\n",
       "      <td>1.6826</td>\n",
       "      <td>15.4370</td>\n",
       "    </tr>\n",
       "    <tr>\n",
       "      <th>5410</th>\n",
       "      <td>3967.3</td>\n",
       "      <td>5.680200e-17</td>\n",
       "      <td>11.1750</td>\n",
       "      <td>2.6688</td>\n",
       "    </tr>\n",
       "    <tr>\n",
       "      <th>5411</th>\n",
       "      <td>4018.4</td>\n",
       "      <td>5.415700e-17</td>\n",
       "      <td>0.8258</td>\n",
       "      <td>35.3240</td>\n",
       "    </tr>\n",
       "    <tr>\n",
       "      <th>5412</th>\n",
       "      <td>4146.8</td>\n",
       "      <td>4.966200e-17</td>\n",
       "      <td>0.5211</td>\n",
       "      <td>54.6650</td>\n",
       "    </tr>\n",
       "    <tr>\n",
       "      <th>5413</th>\n",
       "      <td>4187.9</td>\n",
       "      <td>9.293900e-17</td>\n",
       "      <td>0.2335</td>\n",
       "      <td>232.8600</td>\n",
       "    </tr>\n",
       "    <tr>\n",
       "      <th>5414</th>\n",
       "      <td>4146.9</td>\n",
       "      <td>1.470100e-16</td>\n",
       "      <td>1.4795</td>\n",
       "      <td>56.9970</td>\n",
       "    </tr>\n",
       "    <tr>\n",
       "      <th>5415</th>\n",
       "      <td>4015.7</td>\n",
       "      <td>6.017200e-17</td>\n",
       "      <td>0.1330</td>\n",
       "      <td>243.3600</td>\n",
       "    </tr>\n",
       "    <tr>\n",
       "      <th>5416</th>\n",
       "      <td>3978.5</td>\n",
       "      <td>1.762500e-15</td>\n",
       "      <td>1897.4000</td>\n",
       "      <td>0.4904</td>\n",
       "    </tr>\n",
       "    <tr>\n",
       "      <th>5417</th>\n",
       "      <td>4107.2</td>\n",
       "      <td>4.684900e-17</td>\n",
       "      <td>4.3242</td>\n",
       "      <td>6.0964</td>\n",
       "    </tr>\n",
       "    <tr>\n",
       "      <th>5418</th>\n",
       "      <td>3878.2</td>\n",
       "      <td>5.799600e-17</td>\n",
       "      <td>0.2097</td>\n",
       "      <td>138.7500</td>\n",
       "    </tr>\n",
       "    <tr>\n",
       "      <th>5419</th>\n",
       "      <td>3869.7</td>\n",
       "      <td>6.951100e-17</td>\n",
       "      <td>0.6678</td>\n",
       "      <td>51.9930</td>\n",
       "    </tr>\n",
       "    <tr>\n",
       "      <th>5420</th>\n",
       "      <td>3858.3</td>\n",
       "      <td>6.826700e-17</td>\n",
       "      <td>0.5225</td>\n",
       "      <td>64.8770</td>\n",
       "    </tr>\n",
       "    <tr>\n",
       "      <th>5421</th>\n",
       "      <td>3857.1</td>\n",
       "      <td>1.154500e-16</td>\n",
       "      <td>0.2333</td>\n",
       "      <td>245.5800</td>\n",
       "    </tr>\n",
       "    <tr>\n",
       "      <th>5422</th>\n",
       "      <td>4110.7</td>\n",
       "      <td>6.597700e-17</td>\n",
       "      <td>0.4399</td>\n",
       "      <td>84.5350</td>\n",
       "    </tr>\n",
       "    <tr>\n",
       "      <th>5423</th>\n",
       "      <td>4053.9</td>\n",
       "      <td>5.354400e-17</td>\n",
       "      <td>2.1974</td>\n",
       "      <td>13.3580</td>\n",
       "    </tr>\n",
       "    <tr>\n",
       "      <th>5424</th>\n",
       "      <td>4066.4</td>\n",
       "      <td>9.140900e-17</td>\n",
       "      <td>0.1427</td>\n",
       "      <td>353.3200</td>\n",
       "    </tr>\n",
       "    <tr>\n",
       "      <th>5425</th>\n",
       "      <td>4173.2</td>\n",
       "      <td>7.573800e-17</td>\n",
       "      <td>0.1504</td>\n",
       "      <td>292.5300</td>\n",
       "    </tr>\n",
       "    <tr>\n",
       "      <th>5426</th>\n",
       "      <td>3912.9</td>\n",
       "      <td>1.425700e-16</td>\n",
       "      <td>0.3022</td>\n",
       "      <td>240.9400</td>\n",
       "    </tr>\n",
       "    <tr>\n",
       "      <th>5427</th>\n",
       "      <td>4076.2</td>\n",
       "      <td>9.316900e-17</td>\n",
       "      <td>0.1486</td>\n",
       "      <td>347.4800</td>\n",
       "    </tr>\n",
       "    <tr>\n",
       "      <th>5428</th>\n",
       "      <td>4084.3</td>\n",
       "      <td>1.491600e-16</td>\n",
       "      <td>1.7091</td>\n",
       "      <td>48.5620</td>\n",
       "    </tr>\n",
       "    <tr>\n",
       "      <th>5429</th>\n",
       "      <td>4190.5</td>\n",
       "      <td>1.204700e-16</td>\n",
       "      <td>150.6400</td>\n",
       "      <td>0.4684</td>\n",
       "    </tr>\n",
       "    <tr>\n",
       "      <th>5430</th>\n",
       "      <td>3996.2</td>\n",
       "      <td>2.032800e-16</td>\n",
       "      <td>0.4872</td>\n",
       "      <td>222.2600</td>\n",
       "    </tr>\n",
       "    <tr>\n",
       "      <th>5431</th>\n",
       "      <td>4111.4</td>\n",
       "      <td>3.253500e-16</td>\n",
       "      <td>57.8050</td>\n",
       "      <td>3.1736</td>\n",
       "    </tr>\n",
       "    <tr>\n",
       "      <th>5432</th>\n",
       "      <td>3852.6</td>\n",
       "      <td>1.113900e-16</td>\n",
       "      <td>0.7407</td>\n",
       "      <td>74.4530</td>\n",
       "    </tr>\n",
       "    <tr>\n",
       "      <th>5433</th>\n",
       "      <td>4187.5</td>\n",
       "      <td>9.931600e-16</td>\n",
       "      <td>124.7100</td>\n",
       "      <td>4.6581</td>\n",
       "    </tr>\n",
       "    <tr>\n",
       "      <th>5434</th>\n",
       "      <td>3841.8</td>\n",
       "      <td>1.190700e-16</td>\n",
       "      <td>1.7287</td>\n",
       "      <td>33.9100</td>\n",
       "    </tr>\n",
       "    <tr>\n",
       "      <th>5435</th>\n",
       "      <td>4081.4</td>\n",
       "      <td>7.338600e-17</td>\n",
       "      <td>1.1131</td>\n",
       "      <td>36.6330</td>\n",
       "    </tr>\n",
       "  </tbody>\n",
       "</table>\n",
       "<p>5436 rows × 4 columns</p>\n",
       "</div>"
      ],
      "text/plain": [
       "      wavelenght        ELflux   continum         EW\n",
       "0         4114.6  1.787900e-16     1.0146    99.5160\n",
       "1         3869.9  6.304500e-17     0.2145   146.8200\n",
       "2         3962.6  6.446300e-17     0.2983   113.1900\n",
       "3         3901.7  1.007500e-16     0.0211  2424.6000\n",
       "4         3954.3  7.311100e-17     1.0416    36.6110\n",
       "5         3896.6  5.990100e-16    18.7050    16.2200\n",
       "6         4108.6  1.456500e-15   284.1400     2.8862\n",
       "7         4098.2  2.862100e-15   205.8200     7.7904\n",
       "8         4079.0  1.019300e-16     1.7645    32.0610\n",
       "9         3900.4  8.694700e-17     1.2852    34.3300\n",
       "10        3850.3  1.492100e-16    10.0580     7.3358\n",
       "11        4078.7  5.521000e-17     0.2762   110.9200\n",
       "12        4189.0  4.772500e-17     0.2376   117.5700\n",
       "13        4043.9  7.296100e-17     0.2425   164.1200\n",
       "14        3946.8  6.707400e-17     0.5384    64.7330\n",
       "15        4018.8  5.061900e-17     2.1919    12.4410\n",
       "16        4032.3  4.901900e-17     0.0790   336.5200\n",
       "17        3972.3  6.318700e-17     1.7831    18.6520\n",
       "18        4084.2  1.029600e-16     1.1588    49.4380\n",
       "19        3823.4  6.891900e-17     0.5728    58.6690\n",
       "20        4136.1  4.605600e-17     0.1106   237.6300\n",
       "21        4034.5  3.186800e-16     2.1743    79.5790\n",
       "22        4170.0  6.708100e-17     0.6858    56.7340\n",
       "23        4189.2  4.874700e-17     0.0904   315.6600\n",
       "24        3981.2  5.121300e-17     0.2539   106.6400\n",
       "25        4022.6  5.112800e-17     0.4867    56.7000\n",
       "26        4094.5  6.253300e-17     0.1557   224.6000\n",
       "27        4175.0  5.547700e-17     0.1981   162.8300\n",
       "28        4103.0  4.736300e-17     0.1351   196.8600\n",
       "29        4136.1  6.081100e-17     0.4253    81.5920\n",
       "...          ...           ...        ...        ...\n",
       "5406      4105.0  4.936500e-17     0.3407    81.4410\n",
       "5407      3896.7  7.009800e-17     0.4997    71.0520\n",
       "5408      3843.5  1.373600e-16     0.3806   177.8400\n",
       "5409      3887.2  5.153400e-17     1.6826    15.4370\n",
       "5410      3967.3  5.680200e-17    11.1750     2.6688\n",
       "5411      4018.4  5.415700e-17     0.8258    35.3240\n",
       "5412      4146.8  4.966200e-17     0.5211    54.6650\n",
       "5413      4187.9  9.293900e-17     0.2335   232.8600\n",
       "5414      4146.9  1.470100e-16     1.4795    56.9970\n",
       "5415      4015.7  6.017200e-17     0.1330   243.3600\n",
       "5416      3978.5  1.762500e-15  1897.4000     0.4904\n",
       "5417      4107.2  4.684900e-17     4.3242     6.0964\n",
       "5418      3878.2  5.799600e-17     0.2097   138.7500\n",
       "5419      3869.7  6.951100e-17     0.6678    51.9930\n",
       "5420      3858.3  6.826700e-17     0.5225    64.8770\n",
       "5421      3857.1  1.154500e-16     0.2333   245.5800\n",
       "5422      4110.7  6.597700e-17     0.4399    84.5350\n",
       "5423      4053.9  5.354400e-17     2.1974    13.3580\n",
       "5424      4066.4  9.140900e-17     0.1427   353.3200\n",
       "5425      4173.2  7.573800e-17     0.1504   292.5300\n",
       "5426      3912.9  1.425700e-16     0.3022   240.9400\n",
       "5427      4076.2  9.316900e-17     0.1486   347.4800\n",
       "5428      4084.3  1.491600e-16     1.7091    48.5620\n",
       "5429      4190.5  1.204700e-16   150.6400     0.4684\n",
       "5430      3996.2  2.032800e-16     0.4872   222.2600\n",
       "5431      4111.4  3.253500e-16    57.8050     3.1736\n",
       "5432      3852.6  1.113900e-16     0.7407    74.4530\n",
       "5433      4187.5  9.931600e-16   124.7100     4.6581\n",
       "5434      3841.8  1.190700e-16     1.7287    33.9100\n",
       "5435      4081.4  7.338600e-17     1.1131    36.6330\n",
       "\n",
       "[5436 rows x 4 columns]"
      ]
     },
     "execution_count": 28,
     "metadata": {},
     "output_type": "execute_result"
    }
   ],
   "source": [
    "data.drop(['type'],axis=1)"
   ]
  },
  {
   "cell_type": "code",
   "execution_count": 32,
   "metadata": {},
   "outputs": [],
   "source": [
    "seldata = data[(np.abs(stats.zscore(data.drop(['type'],axis=1))) < 3).all(axis=1)]"
   ]
  },
  {
   "cell_type": "code",
   "execution_count": 33,
   "metadata": {},
   "outputs": [
    {
     "data": {
      "text/plain": [
       "((5342, 5), (5436, 5))"
      ]
     },
     "execution_count": 33,
     "metadata": {},
     "output_type": "execute_result"
    }
   ],
   "source": [
    "seldata.shape, data.shape"
   ]
  },
  {
   "cell_type": "code",
   "execution_count": 34,
   "metadata": {},
   "outputs": [
    {
     "data": {
      "text/html": [
       "<div>\n",
       "<style scoped>\n",
       "    .dataframe tbody tr th:only-of-type {\n",
       "        vertical-align: middle;\n",
       "    }\n",
       "\n",
       "    .dataframe tbody tr th {\n",
       "        vertical-align: top;\n",
       "    }\n",
       "\n",
       "    .dataframe thead tr th {\n",
       "        text-align: left;\n",
       "    }\n",
       "\n",
       "    .dataframe thead tr:last-of-type th {\n",
       "        text-align: right;\n",
       "    }\n",
       "</style>\n",
       "<table border=\"1\" class=\"dataframe\">\n",
       "  <thead>\n",
       "    <tr>\n",
       "      <th></th>\n",
       "      <th colspan=\"8\" halign=\"left\">ELflux</th>\n",
       "      <th colspan=\"8\" halign=\"left\">EW</th>\n",
       "      <th colspan=\"8\" halign=\"left\">continum</th>\n",
       "      <th colspan=\"8\" halign=\"left\">wavelenght</th>\n",
       "    </tr>\n",
       "    <tr>\n",
       "      <th></th>\n",
       "      <th>count</th>\n",
       "      <th>mean</th>\n",
       "      <th>std</th>\n",
       "      <th>min</th>\n",
       "      <th>25%</th>\n",
       "      <th>50%</th>\n",
       "      <th>75%</th>\n",
       "      <th>max</th>\n",
       "      <th>count</th>\n",
       "      <th>mean</th>\n",
       "      <th>std</th>\n",
       "      <th>min</th>\n",
       "      <th>25%</th>\n",
       "      <th>50%</th>\n",
       "      <th>75%</th>\n",
       "      <th>max</th>\n",
       "      <th>count</th>\n",
       "      <th>mean</th>\n",
       "      <th>std</th>\n",
       "      <th>min</th>\n",
       "      <th>25%</th>\n",
       "      <th>50%</th>\n",
       "      <th>75%</th>\n",
       "      <th>max</th>\n",
       "      <th>count</th>\n",
       "      <th>mean</th>\n",
       "      <th>std</th>\n",
       "      <th>min</th>\n",
       "      <th>25%</th>\n",
       "      <th>50%</th>\n",
       "      <th>75%</th>\n",
       "      <th>max</th>\n",
       "    </tr>\n",
       "    <tr>\n",
       "      <th>type</th>\n",
       "      <th></th>\n",
       "      <th></th>\n",
       "      <th></th>\n",
       "      <th></th>\n",
       "      <th></th>\n",
       "      <th></th>\n",
       "      <th></th>\n",
       "      <th></th>\n",
       "      <th></th>\n",
       "      <th></th>\n",
       "      <th></th>\n",
       "      <th></th>\n",
       "      <th></th>\n",
       "      <th></th>\n",
       "      <th></th>\n",
       "      <th></th>\n",
       "      <th></th>\n",
       "      <th></th>\n",
       "      <th></th>\n",
       "      <th></th>\n",
       "      <th></th>\n",
       "      <th></th>\n",
       "      <th></th>\n",
       "      <th></th>\n",
       "      <th></th>\n",
       "      <th></th>\n",
       "      <th></th>\n",
       "      <th></th>\n",
       "      <th></th>\n",
       "      <th></th>\n",
       "      <th></th>\n",
       "      <th></th>\n",
       "    </tr>\n",
       "  </thead>\n",
       "  <tbody>\n",
       "    <tr>\n",
       "      <th>LAE</th>\n",
       "      <td>4405.0</td>\n",
       "      <td>8.001918e-17</td>\n",
       "      <td>3.624174e-17</td>\n",
       "      <td>4.276800e-17</td>\n",
       "      <td>5.654600e-17</td>\n",
       "      <td>6.890100e-17</td>\n",
       "      <td>9.029900e-17</td>\n",
       "      <td>4.380200e-16</td>\n",
       "      <td>4405.0</td>\n",
       "      <td>418.844450</td>\n",
       "      <td>1515.982457</td>\n",
       "      <td>0.0522</td>\n",
       "      <td>48.2520</td>\n",
       "      <td>111.0500</td>\n",
       "      <td>218.310</td>\n",
       "      <td>10258.000</td>\n",
       "      <td>4405.0</td>\n",
       "      <td>1.894401</td>\n",
       "      <td>16.136510</td>\n",
       "      <td>-0.2411</td>\n",
       "      <td>0.1753</td>\n",
       "      <td>0.355</td>\n",
       "      <td>0.8821</td>\n",
       "      <td>873.64</td>\n",
       "      <td>4405.0</td>\n",
       "      <td>4003.180499</td>\n",
       "      <td>112.742738</td>\n",
       "      <td>3800.2</td>\n",
       "      <td>3908.4</td>\n",
       "      <td>3999.6</td>\n",
       "      <td>4103.1</td>\n",
       "      <td>4200.0</td>\n",
       "    </tr>\n",
       "    <tr>\n",
       "      <th>OII</th>\n",
       "      <td>937.0</td>\n",
       "      <td>5.076188e-16</td>\n",
       "      <td>6.581478e-16</td>\n",
       "      <td>4.495600e-17</td>\n",
       "      <td>1.039400e-16</td>\n",
       "      <td>2.401000e-16</td>\n",
       "      <td>6.004000e-16</td>\n",
       "      <td>3.306200e-15</td>\n",
       "      <td>937.0</td>\n",
       "      <td>7.901651</td>\n",
       "      <td>8.120390</td>\n",
       "      <td>0.0394</td>\n",
       "      <td>2.1635</td>\n",
       "      <td>5.4446</td>\n",
       "      <td>10.855</td>\n",
       "      <td>69.723</td>\n",
       "      <td>937.0</td>\n",
       "      <td>117.992090</td>\n",
       "      <td>254.753536</td>\n",
       "      <td>0.6176</td>\n",
       "      <td>10.0490</td>\n",
       "      <td>28.402</td>\n",
       "      <td>101.0600</td>\n",
       "      <td>2184.10</td>\n",
       "      <td>937.0</td>\n",
       "      <td>4070.191889</td>\n",
       "      <td>92.860764</td>\n",
       "      <td>3826.2</td>\n",
       "      <td>4002.5</td>\n",
       "      <td>4089.3</td>\n",
       "      <td>4149.4</td>\n",
       "      <td>4199.8</td>\n",
       "    </tr>\n",
       "  </tbody>\n",
       "</table>\n",
       "</div>"
      ],
      "text/plain": [
       "      ELflux                                                          \\\n",
       "       count          mean           std           min           25%   \n",
       "type                                                                   \n",
       "LAE   4405.0  8.001918e-17  3.624174e-17  4.276800e-17  5.654600e-17   \n",
       "OII    937.0  5.076188e-16  6.581478e-16  4.495600e-17  1.039400e-16   \n",
       "\n",
       "                                                    EW              \\\n",
       "               50%           75%           max   count        mean   \n",
       "type                                                                 \n",
       "LAE   6.890100e-17  9.029900e-17  4.380200e-16  4405.0  418.844450   \n",
       "OII   2.401000e-16  6.004000e-16  3.306200e-15   937.0    7.901651   \n",
       "\n",
       "                                                                 continum  \\\n",
       "              std     min      25%       50%      75%        max    count   \n",
       "type                                                                        \n",
       "LAE   1515.982457  0.0522  48.2520  111.0500  218.310  10258.000   4405.0   \n",
       "OII      8.120390  0.0394   2.1635    5.4446   10.855     69.723    937.0   \n",
       "\n",
       "                                                                          \\\n",
       "            mean         std     min      25%     50%       75%      max   \n",
       "type                                                                       \n",
       "LAE     1.894401   16.136510 -0.2411   0.1753   0.355    0.8821   873.64   \n",
       "OII   117.992090  254.753536  0.6176  10.0490  28.402  101.0600  2184.10   \n",
       "\n",
       "     wavelenght                                                           \\\n",
       "          count         mean         std     min     25%     50%     75%   \n",
       "type                                                                       \n",
       "LAE      4405.0  4003.180499  112.742738  3800.2  3908.4  3999.6  4103.1   \n",
       "OII       937.0  4070.191889   92.860764  3826.2  4002.5  4089.3  4149.4   \n",
       "\n",
       "              \n",
       "         max  \n",
       "type          \n",
       "LAE   4200.0  \n",
       "OII   4199.8  "
      ]
     },
     "execution_count": 34,
     "metadata": {},
     "output_type": "execute_result"
    }
   ],
   "source": [
    "seldata.groupby('type').describe()"
   ]
  },
  {
   "cell_type": "markdown",
   "metadata": {},
   "source": [
    "### Transform pandas data frame into a numpy array that can be fed to sklearn methods."
   ]
  },
  {
   "cell_type": "code",
   "execution_count": 35,
   "metadata": {},
   "outputs": [],
   "source": [
    "from sklearn.preprocessing import LabelEncoder"
   ]
  },
  {
   "cell_type": "code",
   "execution_count": 36,
   "metadata": {},
   "outputs": [],
   "source": [
    "le = LabelEncoder()"
   ]
  },
  {
   "cell_type": "code",
   "execution_count": 37,
   "metadata": {},
   "outputs": [],
   "source": [
    "newcolum = le.fit_transform(seldata.type.values)"
   ]
  },
  {
   "cell_type": "code",
   "execution_count": 38,
   "metadata": {},
   "outputs": [
    {
     "data": {
      "text/plain": [
       "array([0, 0, 0, ..., 1, 0, 0])"
      ]
     },
     "execution_count": 38,
     "metadata": {},
     "output_type": "execute_result"
    }
   ],
   "source": [
    "newcolum"
   ]
  },
  {
   "cell_type": "code",
   "execution_count": 39,
   "metadata": {},
   "outputs": [],
   "source": [
    "newcolum = 1-newcolum"
   ]
  },
  {
   "cell_type": "code",
   "execution_count": 40,
   "metadata": {},
   "outputs": [
    {
     "data": {
      "text/plain": [
       "array([1, 1, 1, ..., 0, 1, 1])"
      ]
     },
     "execution_count": 40,
     "metadata": {},
     "output_type": "execute_result"
    }
   ],
   "source": [
    "newcolum"
   ]
  },
  {
   "cell_type": "code",
   "execution_count": 41,
   "metadata": {},
   "outputs": [
    {
     "name": "stderr",
     "output_type": "stream",
     "text": [
      "/Users/hmasoo/anaconda3/envs/py36/lib/python3.6/site-packages/pandas/core/indexing.py:543: SettingWithCopyWarning: \n",
      "A value is trying to be set on a copy of a slice from a DataFrame.\n",
      "Try using .loc[row_indexer,col_indexer] = value instead\n",
      "\n",
      "See the caveats in the documentation: http://pandas.pydata.org/pandas-docs/stable/indexing.html#indexing-view-versus-copy\n",
      "  self.obj[item] = s\n"
     ]
    }
   ],
   "source": [
    "seldata.loc[:,'type'] = newcolum"
   ]
  },
  {
   "cell_type": "code",
   "execution_count": 42,
   "metadata": {},
   "outputs": [
    {
     "data": {
      "text/html": [
       "<div>\n",
       "<style scoped>\n",
       "    .dataframe tbody tr th:only-of-type {\n",
       "        vertical-align: middle;\n",
       "    }\n",
       "\n",
       "    .dataframe tbody tr th {\n",
       "        vertical-align: top;\n",
       "    }\n",
       "\n",
       "    .dataframe thead th {\n",
       "        text-align: right;\n",
       "    }\n",
       "</style>\n",
       "<table border=\"1\" class=\"dataframe\">\n",
       "  <thead>\n",
       "    <tr style=\"text-align: right;\">\n",
       "      <th></th>\n",
       "      <th>type</th>\n",
       "      <th>wavelenght</th>\n",
       "      <th>ELflux</th>\n",
       "      <th>continum</th>\n",
       "      <th>EW</th>\n",
       "    </tr>\n",
       "  </thead>\n",
       "  <tbody>\n",
       "    <tr>\n",
       "      <th>0</th>\n",
       "      <td>1</td>\n",
       "      <td>4114.6</td>\n",
       "      <td>1.787900e-16</td>\n",
       "      <td>1.0146</td>\n",
       "      <td>99.516</td>\n",
       "    </tr>\n",
       "    <tr>\n",
       "      <th>1</th>\n",
       "      <td>1</td>\n",
       "      <td>3869.9</td>\n",
       "      <td>6.304500e-17</td>\n",
       "      <td>0.2145</td>\n",
       "      <td>146.820</td>\n",
       "    </tr>\n",
       "    <tr>\n",
       "      <th>2</th>\n",
       "      <td>1</td>\n",
       "      <td>3962.6</td>\n",
       "      <td>6.446300e-17</td>\n",
       "      <td>0.2983</td>\n",
       "      <td>113.190</td>\n",
       "    </tr>\n",
       "    <tr>\n",
       "      <th>3</th>\n",
       "      <td>1</td>\n",
       "      <td>3901.7</td>\n",
       "      <td>1.007500e-16</td>\n",
       "      <td>0.0211</td>\n",
       "      <td>2424.600</td>\n",
       "    </tr>\n",
       "    <tr>\n",
       "      <th>4</th>\n",
       "      <td>1</td>\n",
       "      <td>3954.3</td>\n",
       "      <td>7.311100e-17</td>\n",
       "      <td>1.0416</td>\n",
       "      <td>36.611</td>\n",
       "    </tr>\n",
       "  </tbody>\n",
       "</table>\n",
       "</div>"
      ],
      "text/plain": [
       "   type  wavelenght        ELflux  continum        EW\n",
       "0     1      4114.6  1.787900e-16    1.0146    99.516\n",
       "1     1      3869.9  6.304500e-17    0.2145   146.820\n",
       "2     1      3962.6  6.446300e-17    0.2983   113.190\n",
       "3     1      3901.7  1.007500e-16    0.0211  2424.600\n",
       "4     1      3954.3  7.311100e-17    1.0416    36.611"
      ]
     },
     "execution_count": 42,
     "metadata": {},
     "output_type": "execute_result"
    }
   ],
   "source": [
    "seldata.head()"
   ]
  },
  {
   "cell_type": "code",
   "execution_count": 43,
   "metadata": {},
   "outputs": [],
   "source": [
    "x,y = seldata.drop('type',axis=1),seldata.type"
   ]
  },
  {
   "cell_type": "code",
   "execution_count": 46,
   "metadata": {},
   "outputs": [],
   "source": [
    "#z normalize\n",
    "normalized_x = (x-x.mean())/x.std()"
   ]
  },
  {
   "cell_type": "code",
   "execution_count": 47,
   "metadata": {},
   "outputs": [
    {
     "data": {
      "text/html": [
       "<div>\n",
       "<style scoped>\n",
       "    .dataframe tbody tr th:only-of-type {\n",
       "        vertical-align: middle;\n",
       "    }\n",
       "\n",
       "    .dataframe tbody tr th {\n",
       "        vertical-align: top;\n",
       "    }\n",
       "\n",
       "    .dataframe thead th {\n",
       "        text-align: right;\n",
       "    }\n",
       "</style>\n",
       "<table border=\"1\" class=\"dataframe\">\n",
       "  <thead>\n",
       "    <tr style=\"text-align: right;\">\n",
       "      <th></th>\n",
       "      <th>wavelenght</th>\n",
       "      <th>ELflux</th>\n",
       "      <th>continum</th>\n",
       "      <th>EW</th>\n",
       "    </tr>\n",
       "  </thead>\n",
       "  <tbody>\n",
       "    <tr>\n",
       "      <th>count</th>\n",
       "      <td>5.342000e+03</td>\n",
       "      <td>5.342000e+03</td>\n",
       "      <td>5.342000e+03</td>\n",
       "      <td>5.342000e+03</td>\n",
       "    </tr>\n",
       "    <tr>\n",
       "      <th>mean</th>\n",
       "      <td>4.764307e-14</td>\n",
       "      <td>7.272356e-16</td>\n",
       "      <td>-3.351868e-16</td>\n",
       "      <td>2.660212e-18</td>\n",
       "    </tr>\n",
       "    <tr>\n",
       "      <th>std</th>\n",
       "      <td>1.000000e+00</td>\n",
       "      <td>1.000000e+00</td>\n",
       "      <td>1.000000e+00</td>\n",
       "      <td>1.000000e+00</td>\n",
       "    </tr>\n",
       "    <tr>\n",
       "      <th>min</th>\n",
       "      <td>-1.909843e+00</td>\n",
       "      <td>-3.490171e-01</td>\n",
       "      <td>-1.933709e-01</td>\n",
       "      <td>-2.502623e-01</td>\n",
       "    </tr>\n",
       "    <tr>\n",
       "      <th>25%</th>\n",
       "      <td>-8.145499e-01</td>\n",
       "      <td>-3.007989e-01</td>\n",
       "      <td>-1.895221e-01</td>\n",
       "      <td>-2.361628e-01</td>\n",
       "    </tr>\n",
       "    <tr>\n",
       "      <th>50%</th>\n",
       "      <td>2.548601e-02</td>\n",
       "      <td>-2.526010e-01</td>\n",
       "      <td>-1.870733e-01</td>\n",
       "      <td>-1.905579e-01</td>\n",
       "    </tr>\n",
       "    <tr>\n",
       "      <th>75%</th>\n",
       "      <td>8.766394e-01</td>\n",
       "      <td>-1.415343e-01</td>\n",
       "      <td>-1.708365e-01</td>\n",
       "      <td>-1.132138e-01</td>\n",
       "    </tr>\n",
       "    <tr>\n",
       "      <th>max</th>\n",
       "      <td>1.645968e+00</td>\n",
       "      <td>9.797628e+00</td>\n",
       "      <td>1.857999e+01</td>\n",
       "      <td>7.153828e+00</td>\n",
       "    </tr>\n",
       "  </tbody>\n",
       "</table>\n",
       "</div>"
      ],
      "text/plain": [
       "         wavelenght        ELflux      continum            EW\n",
       "count  5.342000e+03  5.342000e+03  5.342000e+03  5.342000e+03\n",
       "mean   4.764307e-14  7.272356e-16 -3.351868e-16  2.660212e-18\n",
       "std    1.000000e+00  1.000000e+00  1.000000e+00  1.000000e+00\n",
       "min   -1.909843e+00 -3.490171e-01 -1.933709e-01 -2.502623e-01\n",
       "25%   -8.145499e-01 -3.007989e-01 -1.895221e-01 -2.361628e-01\n",
       "50%    2.548601e-02 -2.526010e-01 -1.870733e-01 -1.905579e-01\n",
       "75%    8.766394e-01 -1.415343e-01 -1.708365e-01 -1.132138e-01\n",
       "max    1.645968e+00  9.797628e+00  1.857999e+01  7.153828e+00"
      ]
     },
     "execution_count": 47,
     "metadata": {},
     "output_type": "execute_result"
    }
   ],
   "source": [
    "normalized_x.describe()"
   ]
  },
  {
   "cell_type": "markdown",
   "metadata": {},
   "source": [
    "### A quick way to see what variables are important"
   ]
  },
  {
   "cell_type": "markdown",
   "metadata": {},
   "source": [
    "Create a simple linear model and use the cofficients of different variables to track variables' importance. Useful when there are many and we want to get rid of some of them, or to just build understanding of the model. Note that this doesn't properly inform one of which variables are redundant."
   ]
  },
  {
   "cell_type": "code",
   "execution_count": 48,
   "metadata": {},
   "outputs": [],
   "source": [
    "from sklearn.linear_model import LogisticRegression"
   ]
  },
  {
   "cell_type": "code",
   "execution_count": 49,
   "metadata": {},
   "outputs": [],
   "source": [
    "model = LogisticRegression()"
   ]
  },
  {
   "cell_type": "code",
   "execution_count": 52,
   "metadata": {},
   "outputs": [
    {
     "data": {
      "text/plain": [
       "LogisticRegression(C=1.0, class_weight=None, dual=False, fit_intercept=True,\n",
       "          intercept_scaling=1, max_iter=100, multi_class='ovr', n_jobs=1,\n",
       "          penalty='l2', random_state=None, solver='liblinear', tol=0.0001,\n",
       "          verbose=0, warm_start=False)"
      ]
     },
     "execution_count": 52,
     "metadata": {},
     "output_type": "execute_result"
    }
   ],
   "source": [
    "model.fit(normalized_x,y)"
   ]
  },
  {
   "cell_type": "code",
   "execution_count": 53,
   "metadata": {},
   "outputs": [
    {
     "data": {
      "text/plain": [
       "array([[ -0.85213129,  -4.89322478,  -3.95249985,  11.53403327]])"
      ]
     },
     "execution_count": 53,
     "metadata": {},
     "output_type": "execute_result"
    }
   ],
   "source": [
    "model.coef_"
   ]
  },
  {
   "cell_type": "code",
   "execution_count": 55,
   "metadata": {},
   "outputs": [
    {
     "data": {
      "text/html": [
       "<div>\n",
       "<style scoped>\n",
       "    .dataframe tbody tr th:only-of-type {\n",
       "        vertical-align: middle;\n",
       "    }\n",
       "\n",
       "    .dataframe tbody tr th {\n",
       "        vertical-align: top;\n",
       "    }\n",
       "\n",
       "    .dataframe thead th {\n",
       "        text-align: right;\n",
       "    }\n",
       "</style>\n",
       "<table border=\"1\" class=\"dataframe\">\n",
       "  <thead>\n",
       "    <tr style=\"text-align: right;\">\n",
       "      <th></th>\n",
       "      <th>0</th>\n",
       "      <th>1</th>\n",
       "    </tr>\n",
       "  </thead>\n",
       "  <tbody>\n",
       "    <tr>\n",
       "      <th>0</th>\n",
       "      <td>wavelenght</td>\n",
       "      <td>[-0.852131292051]</td>\n",
       "    </tr>\n",
       "    <tr>\n",
       "      <th>1</th>\n",
       "      <td>ELflux</td>\n",
       "      <td>[-4.89322478334]</td>\n",
       "    </tr>\n",
       "    <tr>\n",
       "      <th>2</th>\n",
       "      <td>continum</td>\n",
       "      <td>[-3.95249984697]</td>\n",
       "    </tr>\n",
       "    <tr>\n",
       "      <th>3</th>\n",
       "      <td>EW</td>\n",
       "      <td>[11.5340332736]</td>\n",
       "    </tr>\n",
       "  </tbody>\n",
       "</table>\n",
       "</div>"
      ],
      "text/plain": [
       "            0                  1\n",
       "0  wavelenght  [-0.852131292051]\n",
       "1      ELflux   [-4.89322478334]\n",
       "2    continum   [-3.95249984697]\n",
       "3          EW    [11.5340332736]"
      ]
     },
     "execution_count": 55,
     "metadata": {},
     "output_type": "execute_result"
    }
   ],
   "source": [
    "pd.DataFrame(list(zip(x.columns, np.transpose(model.coef_))))"
   ]
  },
  {
   "cell_type": "markdown",
   "metadata": {},
   "source": [
    "### Summary"
   ]
  },
  {
   "cell_type": "markdown",
   "metadata": {},
   "source": [
    "- Basic exploration of data sets\n",
    "- prep data for model building, getting rid of outliers, encoding,\n",
    "- model build to understand variable importance."
   ]
  },
  {
   "cell_type": "markdown",
   "metadata": {},
   "source": [
    "### First steps with models: Decision Tree Classifier."
   ]
  },
  {
   "cell_type": "code",
   "execution_count": 57,
   "metadata": {},
   "outputs": [],
   "source": [
    "from sklearn.tree import DecisionTreeClassifier"
   ]
  },
  {
   "cell_type": "code",
   "execution_count": 58,
   "metadata": {},
   "outputs": [],
   "source": [
    "model = DecisionTreeClassifier()"
   ]
  },
  {
   "cell_type": "code",
   "execution_count": 60,
   "metadata": {},
   "outputs": [
    {
     "data": {
      "text/plain": [
       "DecisionTreeClassifier(class_weight=None, criterion='gini', max_depth=None,\n",
       "            max_features=None, max_leaf_nodes=None,\n",
       "            min_impurity_decrease=0.0, min_impurity_split=None,\n",
       "            min_samples_leaf=1, min_samples_split=2,\n",
       "            min_weight_fraction_leaf=0.0, presort=False, random_state=None,\n",
       "            splitter='best')"
      ]
     },
     "execution_count": 60,
     "metadata": {},
     "output_type": "execute_result"
    }
   ],
   "source": [
    "model"
   ]
  },
  {
   "cell_type": "code",
   "execution_count": 61,
   "metadata": {},
   "outputs": [],
   "source": [
    "xtrain, xtest, ytrain, ytest = train_test_split(x,y, test_size = 0.2)"
   ]
  },
  {
   "cell_type": "code",
   "execution_count": 62,
   "metadata": {},
   "outputs": [
    {
     "data": {
      "text/plain": [
       "DecisionTreeClassifier(class_weight=None, criterion='gini', max_depth=None,\n",
       "            max_features=None, max_leaf_nodes=None,\n",
       "            min_impurity_decrease=0.0, min_impurity_split=None,\n",
       "            min_samples_leaf=1, min_samples_split=2,\n",
       "            min_weight_fraction_leaf=0.0, presort=False, random_state=None,\n",
       "            splitter='best')"
      ]
     },
     "execution_count": 62,
     "metadata": {},
     "output_type": "execute_result"
    }
   ],
   "source": [
    "model.fit(xtrain,ytrain)"
   ]
  },
  {
   "cell_type": "code",
   "execution_count": 63,
   "metadata": {},
   "outputs": [],
   "source": [
    "ypred = model.predict(xtest)"
   ]
  },
  {
   "cell_type": "code",
   "execution_count": 64,
   "metadata": {},
   "outputs": [
    {
     "data": {
      "text/plain": [
       "0.92890551917680075"
      ]
     },
     "execution_count": 64,
     "metadata": {},
     "output_type": "execute_result"
    }
   ],
   "source": [
    "metrics.accuracy_score(ytest,ypred)"
   ]
  },
  {
   "cell_type": "code",
   "execution_count": 65,
   "metadata": {},
   "outputs": [
    {
     "data": {
      "text/html": [
       "<div>\n",
       "<style scoped>\n",
       "    .dataframe tbody tr th:only-of-type {\n",
       "        vertical-align: middle;\n",
       "    }\n",
       "\n",
       "    .dataframe tbody tr th {\n",
       "        vertical-align: top;\n",
       "    }\n",
       "\n",
       "    .dataframe thead th {\n",
       "        text-align: right;\n",
       "    }\n",
       "</style>\n",
       "<table border=\"1\" class=\"dataframe\">\n",
       "  <thead>\n",
       "    <tr style=\"text-align: right;\">\n",
       "      <th></th>\n",
       "      <th>wavelenght</th>\n",
       "      <th>ELflux</th>\n",
       "      <th>continum</th>\n",
       "      <th>EW</th>\n",
       "    </tr>\n",
       "    <tr>\n",
       "      <th>type</th>\n",
       "      <th></th>\n",
       "      <th></th>\n",
       "      <th></th>\n",
       "      <th></th>\n",
       "    </tr>\n",
       "  </thead>\n",
       "  <tbody>\n",
       "    <tr>\n",
       "      <th>0</th>\n",
       "      <td>937</td>\n",
       "      <td>937</td>\n",
       "      <td>937</td>\n",
       "      <td>937</td>\n",
       "    </tr>\n",
       "    <tr>\n",
       "      <th>1</th>\n",
       "      <td>4405</td>\n",
       "      <td>4405</td>\n",
       "      <td>4405</td>\n",
       "      <td>4405</td>\n",
       "    </tr>\n",
       "  </tbody>\n",
       "</table>\n",
       "</div>"
      ],
      "text/plain": [
       "      wavelenght  ELflux  continum    EW\n",
       "type                                    \n",
       "0            937     937       937   937\n",
       "1           4405    4405      4405  4405"
      ]
     },
     "execution_count": 65,
     "metadata": {},
     "output_type": "execute_result"
    }
   ],
   "source": [
    "seldata.groupby('type').count()"
   ]
  },
  {
   "cell_type": "code",
   "execution_count": 66,
   "metadata": {},
   "outputs": [],
   "source": [
    "ypred_dummy = np.ones(len(ytest))   #showing class imbalance..."
   ]
  },
  {
   "cell_type": "code",
   "execution_count": 67,
   "metadata": {},
   "outputs": [
    {
     "data": {
      "text/plain": [
       "0.82694106641721232"
      ]
     },
     "execution_count": 67,
     "metadata": {},
     "output_type": "execute_result"
    }
   ],
   "source": [
    "metrics.accuracy_score(ytest,ypred_dummy)"
   ]
  },
  {
   "cell_type": "code",
   "execution_count": 68,
   "metadata": {},
   "outputs": [
    {
     "data": {
      "text/plain": [
       "0.96118721461187218"
      ]
     },
     "execution_count": 68,
     "metadata": {},
     "output_type": "execute_result"
    }
   ],
   "source": [
    "metrics.precision_score(ytest,ypred)"
   ]
  },
  {
   "cell_type": "code",
   "execution_count": 69,
   "metadata": {},
   "outputs": [
    {
     "data": {
      "text/plain": [
       "0.82694106641721232"
      ]
     },
     "execution_count": 69,
     "metadata": {},
     "output_type": "execute_result"
    }
   ],
   "source": [
    "metrics.precision_score(ytest,ypred_dummy)"
   ]
  },
  {
   "cell_type": "code",
   "execution_count": 70,
   "metadata": {},
   "outputs": [
    {
     "data": {
      "text/plain": [
       "0.95248868778280538"
      ]
     },
     "execution_count": 70,
     "metadata": {},
     "output_type": "execute_result"
    }
   ],
   "source": [
    "metrics.recall_score(ytest,ypred)"
   ]
  },
  {
   "cell_type": "code",
   "execution_count": 72,
   "metadata": {},
   "outputs": [
    {
     "data": {
      "text/plain": [
       "1.0"
      ]
     },
     "execution_count": 72,
     "metadata": {},
     "output_type": "execute_result"
    }
   ],
   "source": [
    "metrics.recall_score(ytest,ypred_dummy)"
   ]
  },
  {
   "cell_type": "code",
   "execution_count": 73,
   "metadata": {},
   "outputs": [],
   "source": [
    "cvmethod = StratifiedKFold(n_splits=5, shuffle=True)"
   ]
  },
  {
   "cell_type": "code",
   "execution_count": 76,
   "metadata": {},
   "outputs": [
    {
     "data": {
      "text/plain": [
       "array([ 0.92890552,  0.9251637 ,  0.93820225,  0.92790262,  0.91947566])"
      ]
     },
     "execution_count": 76,
     "metadata": {},
     "output_type": "execute_result"
    }
   ],
   "source": [
    "cross_val_score(model,x,y,cv = cvmethod)"
   ]
  },
  {
   "cell_type": "code",
   "execution_count": 78,
   "metadata": {},
   "outputs": [
    {
     "data": {
      "text/plain": [
       "(0.92792994958360053, 0.0)"
      ]
     },
     "execution_count": 78,
     "metadata": {},
     "output_type": "execute_result"
    }
   ],
   "source": [
    "_.mean(), _.std()"
   ]
  },
  {
   "cell_type": "code",
   "execution_count": 79,
   "metadata": {},
   "outputs": [],
   "source": [
    "ypred = cross_val_predict(model,x,y,cv = cvmethod)"
   ]
  },
  {
   "cell_type": "code",
   "execution_count": 81,
   "metadata": {},
   "outputs": [
    {
     "data": {
      "text/plain": [
       "0.93055035567203293"
      ]
     },
     "execution_count": 81,
     "metadata": {},
     "output_type": "execute_result"
    }
   ],
   "source": [
    "metrics.accuracy_score(y,ypred)"
   ]
  },
  {
   "cell_type": "code",
   "execution_count": 82,
   "metadata": {},
   "outputs": [
    {
     "data": {
      "text/plain": [
       "array([[ 760,  177],\n",
       "       [ 194, 4211]])"
      ]
     },
     "execution_count": 82,
     "metadata": {},
     "output_type": "execute_result"
    }
   ],
   "source": [
    "confusion_matrix(y,ypred)"
   ]
  },
  {
   "cell_type": "code",
   "execution_count": 83,
   "metadata": {},
   "outputs": [],
   "source": [
    "def plot_confusion_matrix(cm, classes,\n",
    "                          normalize=False,\n",
    "                          title='Confusion matrix',\n",
    "                          cmap=plt.cm.Blues):\n",
    "    \"\"\"\n",
    "    This function prints and plots the confusion matrix.\n",
    "    Normalization can be applied by setting `normalize=True`.\n",
    "    \"\"\"\n",
    "    if normalize:\n",
    "        cm = cm.astype('float') / cm.sum(axis=1)[:, np.newaxis]\n",
    "        print(\"Normalized confusion matrix\")\n",
    "    else:\n",
    "        print('Confusion matrix, without normalization')\n",
    "\n",
    "\n",
    "    plt.imshow(cm, interpolation='nearest', cmap=cmap)\n",
    "    plt.title(title)\n",
    "    plt.colorbar()\n",
    "    tick_marks = np.arange(len(classes))\n",
    "    plt.xticks(tick_marks, classes, rotation=45)\n",
    "    plt.yticks(tick_marks, classes)\n",
    "\n",
    "    fmt = '.2f' if normalize else 'd'\n",
    "    thresh = cm.max() / 2.\n",
    "    for i in range(cm.shape[0]):\n",
    "        for j in range(cm.shape[1]):\n",
    "            plt.text(j, i, format(cm[i, j], fmt),\n",
    "                 horizontalalignment=\"center\",\n",
    "                 color=\"white\" if cm[i, j] > thresh else \"black\")\n",
    "\n",
    "    plt.tight_layout()\n",
    "    plt.ylabel('True label')\n",
    "    plt.xlabel('Predicted label')"
   ]
  },
  {
   "cell_type": "code",
   "execution_count": 84,
   "metadata": {},
   "outputs": [
    {
     "name": "stdout",
     "output_type": "stream",
     "text": [
      "Confusion matrix, without normalization\n"
     ]
    },
    {
     "data": {
      "image/png": "[encoded data removed]",
      "text/plain": [
       "<Figure size 432x288 with 2 Axes>"
      ]
     },
     "metadata": {},
     "output_type": "display_data"
    }
   ],
   "source": [
    "plot_confusion_matrix(confusion_matrix(y,ypred), classes=['OII','LAE'])"
   ]
  },
  {
   "cell_type": "code",
   "execution_count": null,
   "metadata": {},
   "outputs": [],
   "source": []
  },
  {
   "cell_type": "code",
   "execution_count": null,
   "metadata": {},
   "outputs": [],
   "source": []
  },
  {
   "cell_type": "code",
   "execution_count": null,
   "metadata": {},
   "outputs": [],
   "source": []
  },
  {
   "cell_type": "code",
   "execution_count": null,
   "metadata": {},
   "outputs": [],
   "source": []
  },
  {
   "cell_type": "markdown",
   "metadata": {},
   "source": [
    "Decision trees are nice because they can be interpreted easily. For example, this is a decision tree showing how scientists might decide whether a newly found planet has a good chance to harbor life:\n",
    "\n",
    "Figure from [here](http://www.machinelearningtutorial.net/2017/01/17/decisiontree/).\n",
    "\n",
    "<br><div style=\"text-align: center \">  <b> IS ANYBODY OUT THERE?</b></div>\n",
    "\n",
    "<img src=\"Strata_images/exoplanets.svg\" width=\"500\"/>"
   ]
  },
  {
   "cell_type": "markdown",
   "metadata": {},
   "source": [
    "Decision trees work by deciding where to split the data set using values of different features, and where to stop.\n",
    "\n",
    "Mathematically, a good decision tree is one that maximizes the information gain (e.g. the increase in accuracy) at every \"split\".\n",
    "\n",
    "<b> Pros </b> Easy to interpret, fast.\n",
    "\n",
    "<b> Cons </b> Prone to overfitting."
   ]
  },
  {
   "cell_type": "markdown",
   "metadata": {},
   "source": [
    "#### Let's get coding!\n",
    "\n",
    "-  Import model, fit using k-fold (k = 5) cross validation, establish benchmark performance.\n",
    "\n",
    "-  Consider the metric and its potential fallbacks by comparing to \"dummy\" estimator;\n",
    "\n",
    "-  Calculate and plot the confusion matrix."
   ]
  },
  {
   "cell_type": "markdown",
   "metadata": {},
   "source": [
    "### Another easy to interpret algorithm is KNN (K nearest neighbors). "
   ]
  },
  {
   "cell_type": "markdown",
   "metadata": {},
   "source": [
    "<div style=\"text-align: center \">  <b> LET'S FIND SOME NEIGHBORS!</b></div>\n",
    "<table><tr>\n",
    "<td> <img src=\"Strata_images/KNN_1.png\" width=\"350\"/> </td>\n",
    "<td>  <img src=\"Strata_images/KNN_2.png\" width=\"350\"/> </td>\n",
    "</tr></table>"
   ]
  },
  {
   "cell_type": "markdown",
   "metadata": {},
   "source": [
    "#### Let's get coding!\n",
    "\n",
    "Import model, fit using k-fold (k = 5) cross validation, establish benchmark performance, play with basic parameters."
   ]
  },
  {
   "cell_type": "code",
   "execution_count": 85,
   "metadata": {},
   "outputs": [],
   "source": [
    "from sklearn.neighbors import KNeighborsClassifier"
   ]
  },
  {
   "cell_type": "code",
   "execution_count": 92,
   "metadata": {},
   "outputs": [],
   "source": [
    "model = KNeighborsClassifier(n_neighbors=5, weights='distance')"
   ]
  },
  {
   "cell_type": "code",
   "execution_count": 93,
   "metadata": {},
   "outputs": [
    {
     "data": {
      "text/plain": [
       "{'algorithm': 'auto',\n",
       " 'leaf_size': 30,\n",
       " 'metric': 'minkowski',\n",
       " 'metric_params': None,\n",
       " 'n_jobs': 1,\n",
       " 'n_neighbors': 5,\n",
       " 'p': 2,\n",
       " 'weights': 'distance'}"
      ]
     },
     "execution_count": 93,
     "metadata": {},
     "output_type": "execute_result"
    }
   ],
   "source": [
    "model.get_params()"
   ]
  },
  {
   "cell_type": "code",
   "execution_count": 94,
   "metadata": {},
   "outputs": [
    {
     "data": {
      "text/plain": [
       "array([ 0.92422825,  0.9251637 ,  0.94007491,  0.93258427,  0.92790262])"
      ]
     },
     "execution_count": 94,
     "metadata": {},
     "output_type": "execute_result"
    }
   ],
   "source": [
    "cross_val_score(model,x,y,cv = cvmethod)"
   ]
  },
  {
   "cell_type": "code",
   "execution_count": 95,
   "metadata": {},
   "outputs": [
    {
     "data": {
      "text/plain": [
       "0.9299907505702063"
      ]
     },
     "execution_count": 95,
     "metadata": {},
     "output_type": "execute_result"
    }
   ],
   "source": [
    "_.mean()"
   ]
  },
  {
   "cell_type": "code",
   "execution_count": null,
   "metadata": {},
   "outputs": [],
   "source": []
  },
  {
   "cell_type": "code",
   "execution_count": null,
   "metadata": {},
   "outputs": [],
   "source": []
  },
  {
   "cell_type": "code",
   "execution_count": null,
   "metadata": {},
   "outputs": [],
   "source": []
  },
  {
   "cell_type": "markdown",
   "metadata": {},
   "source": [
    "### Summary and 10-minute break"
   ]
  },
  {
   "cell_type": "markdown",
   "metadata": {},
   "source": [
    "- built models with k fold cv\n",
    "- bumped into accuracy paradox\n",
    "- used Decision trees and KNN to optain accuracy scores of 93%"
   ]
  },
  {
   "cell_type": "markdown",
   "metadata": {},
   "source": [
    "## Part 2: Advanced Algorithms"
   ]
  },
  {
   "cell_type": "markdown",
   "metadata": {},
   "source": [
    "### Support Vector Machines (classifier)"
   ]
  },
  {
   "cell_type": "markdown",
   "metadata": {},
   "source": [
    "Support Vector Machines are a long-term staple of machine learning. Parameter tuning is very important in SVMs, and it's the curse and blessing of this algorithm.\n",
    "\n",
    "<b>Pros: </b> Accurate, Powerful\n",
    "\n",
    "<b>Cons: </b>  SLOW, need standardization\n",
    "\n",
    "It's usually a good idea to do parameter optimization on a (representative) selection of your data."
   ]
  },
  {
   "cell_type": "markdown",
   "metadata": {},
   "source": [
    "### SVMs in a nutshell"
   ]
  },
  {
   "cell_type": "markdown",
   "metadata": {},
   "source": [
    "In a classification problem such as this one, SVMs attempts to find the ideal boundary to separate the two classes.\n",
    "\n",
    "<img src=\"Strata_images/SVM_1.png\" width=\"300\"/>\n",
    "\n",
    "This looks easy, but even in this simple cases of completely separable variables, there are many possible choices, with different resulting boundaries.\n",
    "\n",
    "<img src=\"Strata_images/SVM_2.png\" width=\"300\"/> \n",
    "\n",
    "SVM's strategy is to 1. Maximize the separation between classes, called the <b> margin </b> and 2. Use slack variables to attribute a \"penalty\" to misclassifications (soft margin).\n",
    "\n",
    "<img src=\"Strata_images/SVM_3.png\" width=\"300\"/>\n",
    "\n",
    "In the more general case of non-linearly-separable variables, SVMs attempt to map the original feature space (for us a 4D space) to a higher dimensionality space, where instances are more separable. The set of functions used for the mapping is called <b>kernel</b>. \n",
    "<br>\n",
    "<br>\n",
    "<img src=\"Strata_images/SVM_4.png\" width=\"500\"/>\n",
    "\n",
    "\n",
    "The most important parameters of an SVM are:\n",
    "\n",
    "- The type of kernel (linear, polynomial, or Gaussian, \"rbf\" in sklearn);\n",
    "\n",
    "<img src=\"Strata_images/SVM_5.png\" width=\"400\"/>\n",
    "\n",
    "- Gamma, the \"wiggliness\" of the boundary (small gammas = more linear);\n",
    "\n",
    "<img src=\"Strata_images/SVM_6.png\" width=\"300\"/>\n",
    "\n",
    "- C, the soft margin parameter (smaller C values assign a smaller penalty to misclassifications near the boundary, and generates a wider margin).\n",
    "\n",
    "<img src=\"Strata_images/SVM_7.png\" width=\"300\"/>\n",
    "\n",
    "All the figures in this section are from [here](https://www.ncbi.nlm.nih.gov/pubmed/20221922) and [here](https://www.cs.utexas.edu/~mooney/cs391L/slides/svm.ppt)."
   ]
  },
  {
   "cell_type": "markdown",
   "metadata": {},
   "source": [
    "### Let's get coding! \n",
    "\n",
    "-  Import model;\n",
    "\n",
    "-  Establish benchmark performance for 5 fold cross validation;\n",
    "\n",
    "-  Visualize and briefly describe the parameters."
   ]
  },
  {
   "cell_type": "code",
   "execution_count": 96,
   "metadata": {},
   "outputs": [],
   "source": [
    "from sklearn.svm import SVC"
   ]
  },
  {
   "cell_type": "code",
   "execution_count": 97,
   "metadata": {},
   "outputs": [],
   "source": [
    "model = SVC()"
   ]
  },
  {
   "cell_type": "code",
   "execution_count": 98,
   "metadata": {},
   "outputs": [
    {
     "data": {
      "text/plain": [
       "array([ 0.82132834,  0.82507016,  0.82116105,  0.82490637,  0.82490637])"
      ]
     },
     "execution_count": 98,
     "metadata": {},
     "output_type": "execute_result"
    }
   ],
   "source": [
    "cross_val_score(model,x,y,cv = cvmethod)"
   ]
  },
  {
   "cell_type": "code",
   "execution_count": 99,
   "metadata": {},
   "outputs": [
    {
     "data": {
      "text/plain": [
       "0.8234744572091246"
      ]
     },
     "execution_count": 99,
     "metadata": {},
     "output_type": "execute_result"
    }
   ],
   "source": [
    "_.mean()"
   ]
  },
  {
   "cell_type": "code",
   "execution_count": 100,
   "metadata": {},
   "outputs": [
    {
     "data": {
      "text/plain": [
       "array([ 0.92609916,  0.93077643,  0.93820225,  0.93258427,  0.94569288])"
      ]
     },
     "execution_count": 100,
     "metadata": {},
     "output_type": "execute_result"
    }
   ],
   "source": [
    "#for SVM normalization is important , not required for Decision trees\n",
    "cross_val_score(model,normalized_x, y, cv = cvmethod)"
   ]
  },
  {
   "cell_type": "code",
   "execution_count": 106,
   "metadata": {},
   "outputs": [
    {
     "data": {
      "text/plain": [
       "{'C': 1.0,\n",
       " 'cache_size': 200,\n",
       " 'class_weight': None,\n",
       " 'coef0': 0.0,\n",
       " 'decision_function_shape': 'ovr',\n",
       " 'degree': 3,\n",
       " 'gamma': 'auto',\n",
       " 'kernel': 'poly',\n",
       " 'max_iter': -1,\n",
       " 'probability': False,\n",
       " 'random_state': None,\n",
       " 'shrinking': True,\n",
       " 'tol': 0.001,\n",
       " 'verbose': False}"
      ]
     },
     "execution_count": 106,
     "metadata": {},
     "output_type": "execute_result"
    }
   ],
   "source": [
    "model.get_params()"
   ]
  },
  {
   "cell_type": "code",
   "execution_count": 103,
   "metadata": {},
   "outputs": [
    {
     "data": {
      "text/plain": [
       "0.93505716621832102"
      ]
     },
     "execution_count": 103,
     "metadata": {},
     "output_type": "execute_result"
    }
   ],
   "source": [
    "cross_val_score(model,normalized_x, y, cv = cvmethod, scoring='precision').mean()"
   ]
  },
  {
   "cell_type": "markdown",
   "metadata": {},
   "source": [
    "<b> TASKS (10-15 mins) </b>\n",
    "\n",
    "-  Play with different parameters, such as type of kernel (for time scaling reasons, use only poly and rbf), soft margin C, and gamma, to see if you can beat the benchmark performance above. Tip 1: Trying 2-3 values per parameter will be sufficient for now, especially if your machine is taking long. Tip 2: Use low values of gamma (< 1.0) to reduce fitting time.\n",
    "\n",
    "-  Now do the same thing, but using precision as your scoring method."
   ]
  },
  {
   "cell_type": "code",
   "execution_count": 136,
   "metadata": {},
   "outputs": [],
   "source": [
    "model = SVC(kernel='rbf', C=1.0, gamma=20)"
   ]
  },
  {
   "cell_type": "code",
   "execution_count": 137,
   "metadata": {},
   "outputs": [
    {
     "data": {
      "text/plain": [
       "0.95172542260558879"
      ]
     },
     "execution_count": 137,
     "metadata": {},
     "output_type": "execute_result"
    }
   ],
   "source": [
    "cross_val_score(model,normalized_x, y, cv = cvmethod, scoring='precision').mean()"
   ]
  },
  {
   "cell_type": "markdown",
   "metadata": {},
   "source": [
    "#### Coding Solution.\n",
    "\n",
    "Introduce Grid Search CV (params, cv, scoring, verbose, n_jobs) as a method to optimize various parameters simultaneously; use timings to get an idea of the speed of various methods."
   ]
  },
  {
   "cell_type": "code",
   "execution_count": 138,
   "metadata": {},
   "outputs": [],
   "source": [
    "from sklearn.model_selection import GridSearchCV"
   ]
  },
  {
   "cell_type": "code",
   "execution_count": 141,
   "metadata": {},
   "outputs": [],
   "source": [
    "parameters = {'kernel': ['rbf','poly'], 'gamma':[0.01, 0.1, 0.5], 'C':[1,10,100]}\n",
    "nmodels = np.product([len(el) for el in parameters.values()])"
   ]
  },
  {
   "cell_type": "code",
   "execution_count": 145,
   "metadata": {},
   "outputs": [],
   "source": [
    "cvmethod = StratifiedKFold(n_splits=4, shuffle=True)"
   ]
  },
  {
   "cell_type": "code",
   "execution_count": 148,
   "metadata": {},
   "outputs": [
    {
     "name": "stdout",
     "output_type": "stream",
     "text": [
      "Fitting 4 folds for each of 18 candidates, totalling 72 fits\n"
     ]
    },
    {
     "name": "stderr",
     "output_type": "stream",
     "text": [
      "[Parallel(n_jobs=4)]: Done  42 tasks      | elapsed:    2.7s\n",
      "[Parallel(n_jobs=4)]: Done  72 out of  72 | elapsed:    6.0s finished\n"
     ]
    },
    {
     "name": "stdout",
     "output_type": "stream",
     "text": [
      "0.95491904819 {'C': 100, 'gamma': 0.5, 'kernel': 'rbf'}\n",
      "Time per model (s) 0.08832748730977376\n"
     ]
    }
   ],
   "source": [
    "\n",
    "start = time.time()\n",
    "model = GridSearchCV(SVC(), parameters,cv=cvmethod, scoring= 'precision', verbose=1, n_jobs=4)\n",
    "model.fit(normalized_x,y)\n",
    "stop = time.time()\n",
    "\n",
    "print(model.best_score_, model.best_params_)\n",
    "print('Time per model (s)', (stop-start)/float(nmodels*4))"
   ]
  },
  {
   "cell_type": "code",
   "execution_count": null,
   "metadata": {},
   "outputs": [],
   "source": []
  },
  {
   "cell_type": "markdown",
   "metadata": {},
   "source": [
    "### SVM Summary\n",
    "\n",
    "-  After parameter optimization, SVM's performance improves a bit over the baseline.\n",
    "\n",
    "-  We learned how to optimize parameters with Grid Search.\n",
    "\n",
    "-  The best model depends A LOT on the metric."
   ]
  },
  {
   "cell_type": "markdown",
   "metadata": {},
   "source": [
    "### Ensemble methods: 1. Random Forest Classifiers"
   ]
  },
  {
   "cell_type": "markdown",
   "metadata": {},
   "source": [
    "Random Forest Classifiers are combinations of decision trees. The \"random\" part refers to the fact that different trees in the forest are created using random splits of the data, and random subsets of the features. This randomization process makes the algorithm more robust against overfitting, compared to single trees.\n",
    "\n",
    "<b> Pros: </b> Fast (parallel), robust, insensitive to data range.\n",
    "\n",
    "<b> Cons: </b> Fast but not fastest when compared to other ensemble methods."
   ]
  },
  {
   "cell_type": "markdown",
   "metadata": {},
   "source": [
    "Random Forests have many adjustable parameters. One can tune the parameters of each tree, and the way they are combined."
   ]
  },
  {
   "cell_type": "markdown",
   "metadata": {},
   "source": [
    "<img src=\"Strata_images/DT1.png\" width=\"700\"/>"
   ]
  },
  {
   "cell_type": "markdown",
   "metadata": {},
   "source": [
    "#### Tree Parameters\n",
    "\n",
    "The figure above shows an example of possible split. The parameters associated to that are:\n",
    "\n",
    "-  The minimum number of instances in a leaf node;\n",
    "\n",
    "-  The minimum number of instances required in a split node;\n",
    "\n",
    "- The maximum depth of tree.\n",
    "\n",
    "They all deal with reducing overfitting by avoiding to go \"too deep\" in each tree; it makes sense to change two out of three.\n",
    "\n",
    "Additional parameters are:\n",
    "\n",
    "-  The criterion chosen to decide whether a split is \"worth it\", expressed in terms of information gain;\n",
    "\n",
    "-  The number of features that are used in building trees.\n",
    "\n",
    "#### Forest Parameters\n",
    "\n",
    "In Random Forests, the predictions generated by all the trees are simply averaged to produce the final results. The number of trees in the forest can be adjusted, with the general understanding that more trees are better, but at some point performance will plateau, so one can find the trade-off between having more trees and lower runtime."
   ]
  },
  {
   "cell_type": "markdown",
   "metadata": {},
   "source": [
    "### Let's get coding! \n",
    "\n",
    "-  Import model;\n",
    "\n",
    "-  Establish benchmark performance for 5 fold cross validation."
   ]
  },
  {
   "cell_type": "code",
   "execution_count": 149,
   "metadata": {},
   "outputs": [],
   "source": [
    "from sklearn.ensemble import RandomForestClassifier"
   ]
  },
  {
   "cell_type": "code",
   "execution_count": 154,
   "metadata": {},
   "outputs": [],
   "source": [
    "model = RandomForestClassifier()"
   ]
  },
  {
   "cell_type": "code",
   "execution_count": null,
   "metadata": {},
   "outputs": [],
   "source": []
  },
  {
   "cell_type": "code",
   "execution_count": 152,
   "metadata": {},
   "outputs": [
    {
     "data": {
      "text/plain": [
       "0.94346726278016357"
      ]
     },
     "execution_count": 152,
     "metadata": {},
     "output_type": "execute_result"
    }
   ],
   "source": [
    "cross_val_score(model,normalized_x,y, cv=cvmethod).mean()"
   ]
  },
  {
   "cell_type": "code",
   "execution_count": null,
   "metadata": {},
   "outputs": [],
   "source": []
  },
  {
   "cell_type": "markdown",
   "metadata": {},
   "source": [
    "<b> TASKS (10-15 minutes) </b> \n",
    "\n",
    "-  Use the get_params() method to find out the names and signatures of different parameters, and their default values.\n",
    "\n",
    "-  Play with different values of the number of trees (estimators, using values between 5 and 50), maximum depth of tree (usually around 3-8), the minimum amount of instances in a split (2-10), and the maximum number of features (you can decide this one!) allowed in builiding individual trees to see if you can beat the benchmark performance above.\n",
    "\n",
    "-  Now do the same thing, but using recall as your scoring method."
   ]
  },
  {
   "cell_type": "code",
   "execution_count": null,
   "metadata": {},
   "outputs": [],
   "source": [
    "model = RandomForestClassifier(max_depth=,min_samples_leaf=)"
   ]
  },
  {
   "cell_type": "code",
   "execution_count": 157,
   "metadata": {},
   "outputs": [],
   "source": [
    "parameters = {'max_depth':[3,5,8], 'min_samples_split':[2,5,10], 'n_estimators':[10,20,50]}\n",
    "nmodels = np.product([len(el) for el in parameters.values()])"
   ]
  },
  {
   "cell_type": "code",
   "execution_count": 159,
   "metadata": {},
   "outputs": [
    {
     "name": "stdout",
     "output_type": "stream",
     "text": [
      "Fitting 4 folds for each of 27 candidates, totalling 108 fits\n"
     ]
    },
    {
     "name": "stderr",
     "output_type": "stream",
     "text": [
      "[Parallel(n_jobs=4)]: Done  76 tasks      | elapsed:    3.0s\n"
     ]
    },
    {
     "name": "stdout",
     "output_type": "stream",
     "text": [
      "0.949831523774 {'max_depth': 5, 'min_samples_split': 10, 'n_estimators': 20}\n",
      "Time per model (s) 0.04437534455899839\n"
     ]
    },
    {
     "name": "stderr",
     "output_type": "stream",
     "text": [
      "[Parallel(n_jobs=4)]: Done 108 out of 108 | elapsed:    4.6s finished\n"
     ]
    }
   ],
   "source": [
    "\n",
    "start = time.time()\n",
    "model = GridSearchCV(RandomForestClassifier(), parameters,cv=cvmethod, scoring= 'accuracy', verbose=1, n_jobs=4)\n",
    "model.fit(normalized_x,y)\n",
    "stop = time.time()\n",
    "\n",
    "print(model.best_score_, model.best_params_)\n",
    "print('Time per model (s)', (stop-start)/float(nmodels*4))"
   ]
  },
  {
   "cell_type": "code",
   "execution_count": null,
   "metadata": {},
   "outputs": [],
   "source": []
  },
  {
   "cell_type": "markdown",
   "metadata": {},
   "source": [
    "### RF Summary"
   ]
  },
  {
   "cell_type": "markdown",
   "metadata": {},
   "source": [
    "### Ensemble methods 2: Gradient Boosting Models"
   ]
  },
  {
   "cell_type": "markdown",
   "metadata": {},
   "source": [
    "Gradient Boosting models are another ensemble method where different decision trees are combined together.\n",
    "\n",
    "Unlike Random Forests, the model is built by <b> adding individual trees in a sequential fashion, </b>\n",
    "but choosing which trees we add to the model in a way that minimizes the current loss function. The \"Gradient\" part refers to the fact that we try to move along the gradient of the objective function (by calculating its numerical derivative) as we add more trees.\n",
    "\n",
    "The parameters depend on the particular implementation.\n",
    "\n",
    "In the sklearn formulation, the parameters of each tree are essentially the same we saw above; additionally we have the \"learning_rate\" parameter, which dictates how much each tree contribute to the final estimator, and the \"subsample\" parameters, which allows one to use a < 1.0 fraction of samples.\n",
    "\n",
    "I liked this blog post about parameter tuning for GBMs:\n",
    "\n",
    "https://www.analyticsvidhya.com/blog/2016/02/complete-guide-parameter-tuning-gradient-boosting-gbm-python/"
   ]
  },
  {
   "cell_type": "markdown",
   "metadata": {},
   "source": [
    "#### We'll do the usual import and benchmarking:"
   ]
  },
  {
   "cell_type": "markdown",
   "metadata": {},
   "source": [
    "<b> TASKS (10 minutes) </b>\n",
    "\n",
    "-  Use the get_params() method to find out the names and signatures of different parameters, and their default values.\n",
    "\n",
    "-  Play with different values of the number of trees (estimators: 5, 10, 20), max depth of tree (2-8), learning rate (0.1-0.5), and the maximum number of features allowed to see how much you can improve the benchmark performance above.\n",
    "\n",
    "-  Compare the timings to Random Forests."
   ]
  },
  {
   "cell_type": "markdown",
   "metadata": {},
   "source": [
    "### A note about xgboost (vs sklearn's GBM)\n",
    "\n",
    "Sometimes knowns as \"regularized\" GBM, more robust to overfitting.\n",
    "\n",
    "Has more flexibility in defining weak learners, and objective function.\n",
    "\n",
    "Reputation of being very fast.\n",
    "\n",
    "From the same author as the one above:\n",
    "\n",
    "https://www.analyticsvidhya.com/blog/2016/03/complete-guide-parameter-tuning-xgboost-with-codes-python/"
   ]
  },
  {
   "cell_type": "markdown",
   "metadata": {},
   "source": [
    "### Summary so far"
   ]
  },
  {
   "cell_type": "markdown",
   "metadata": {},
   "source": [
    "#### Subtleties in parameter optimization: See additional notebook\n",
    "\n",
    "-  Use cv_results to look at gradients along algorithms and build understanding;\n",
    "\n",
    "-  Push the edges of your parameter grid search; \n",
    "\n",
    "-  Do nested cross validation to optimize parameters in order to avoid leakage between the parameter optimization and the cross validation procedure. "
   ]
  },
  {
   "cell_type": "markdown",
   "metadata": {},
   "source": [
    "### Tips for advanced optimization (know your data).\n",
    "\n",
    "Flip data so less common class becomes the positive one and check performance (in particular, recall). Introduce the \"class weight\" parameter for unbalanced data sets where we are interested in the \"uncommon\" class; define and use ad-hoc metrics."
   ]
  },
  {
   "cell_type": "markdown",
   "metadata": {},
   "source": [
    "#### The class weight parameter\n",
    "\n",
    "In SVMs, C, the soft margin parameter, can take different values according to class. <b> This is helpful for imbalanced data sets, where we are interested in the less common objects. </b> This parameter is available for other estimators too!\n",
    "\n",
    "<img src=\"Strata_images/SVM_8.png\" width=\"500\"/>"
   ]
  },
  {
   "cell_type": "markdown",
   "metadata": {},
   "source": [
    "### My advice: Define your own evaluation metric \n",
    "\n",
    "This is an example of what we did for this paper (Leung, VA et al 2016), where x0 = 1 - precision and x1 = 1 - recall.\n",
    "\n",
    "<img src=\"Strata_images/Formula_Leung.jpg\" width=\"300\"/>\n"
   ]
  },
  {
   "cell_type": "markdown",
   "metadata": {},
   "source": [
    "#### How to do that in code?"
   ]
  },
  {
   "cell_type": "markdown",
   "metadata": {},
   "source": [
    "### Summary"
   ]
  },
  {
   "cell_type": "markdown",
   "metadata": {
    "collapsed": true
   },
   "source": [
    "### Additional Content\n",
    "\n",
    "-  Notebook 1: Nested Cross Validation (the proper way to optimize parameters), Grid Search best practices, Randomized Grid Search.\n",
    "\n",
    "-  Notebook 2: Diagnostic Tools (Learning Curves, Bias/Variance tradeoff, Feature Importance)"
   ]
  },
  {
   "cell_type": "code",
   "execution_count": 83,
   "metadata": {
    "collapsed": true
   },
   "outputs": [],
   "source": [
    "def plot_confusion_matrix(cm, classes,\n",
    "                          normalize=False,\n",
    "                          title='Confusion matrix',\n",
    "                          cmap=plt.cm.Blues):\n",
    "    \"\"\"\n",
    "    This function prints and plots the confusion matrix.\n",
    "    Normalization can be applied by setting `normalize=True`.\n",
    "    \"\"\"\n",
    "    if normalize:\n",
    "        cm = cm.astype('float') / cm.sum(axis=1)[:, np.newaxis]\n",
    "        print(\"Normalized confusion matrix\")\n",
    "    else:\n",
    "        print('Confusion matrix, without normalization')\n",
    "\n",
    "\n",
    "    plt.imshow(cm, interpolation='nearest', cmap=cmap)\n",
    "    plt.title(title)\n",
    "    plt.colorbar()\n",
    "    tick_marks = np.arange(len(classes))\n",
    "    plt.xticks(tick_marks, classes, rotation=45)\n",
    "    plt.yticks(tick_marks, classes)\n",
    "\n",
    "    fmt = '.2f' if normalize else 'd'\n",
    "    thresh = cm.max() / 2.\n",
    "    for i in range(cm.shape[0]):\n",
    "        for j in range(cm.shape[1]):\n",
    "            plt.text(j, i, format(cm[i, j], fmt),\n",
    "                 horizontalalignment=\"center\",\n",
    "                 color=\"white\" if cm[i, j] > thresh else \"black\")\n",
    "\n",
    "    plt.tight_layout()\n",
    "    plt.ylabel('True label')\n",
    "    plt.xlabel('Predicted label')"
   ]
  },
  {
   "cell_type": "code",
   "execution_count": null,
   "metadata": {
    "collapsed": true
   },
   "outputs": [],
   "source": []
  }
 ],
 "metadata": {
  "kernelspec": {
   "display_name": "py36_hsn",
   "language": "python",
   "name": "py36"
  },
  "language_info": {
   "codemirror_mode": {
    "name": "ipython",
    "version": 3
   },
   "file_extension": ".py",
   "mimetype": "text/x-python",
   "name": "python",
   "nbconvert_exporter": "python",
   "pygments_lexer": "ipython3",
   "version": "3.6.6"
  }
 },
 "nbformat": 4,
 "nbformat_minor": 2
}
